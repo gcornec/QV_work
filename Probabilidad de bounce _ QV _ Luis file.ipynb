{
 "cells": [
  {
   "cell_type": "markdown",
   "metadata": {},
   "source": [
    "[La base de datos](#P0)\n",
    "\n",
    "[Selecciones de las variables pertinentes para hacer la prediccion](#P2)\n",
    "* [Estudio de las correlaciones entre variables](#P21)\n",
    "* [Reduccion de las variables: ACP](#P22)\n",
    "\n",
    "[Implementacion de los differentes modelos](#P3)\n",
    "* [Separacion en base de aprentizaje y base de prueba](#P41)\n",
    "* [Los modelos](#P42)\n",
    "* * [Ridge Regression](#P421)\n",
    "* * [Logistic Regression](#P422)\n",
    "* * [Elastic Net](#P423)\n",
    "* * [Bayesian Ridge](#P424)\n",
    "* * [KNN](#P425)\n",
    "* * [SVM](#P426)\n",
    "* * [Neural Network](#P427)\n",
    "* * [DecisionTreeRegressor](#P428)\n",
    "* * [RF Regressor](#P429)\n",
    "* [Importancia de las differentes variables en la construccion del modelo](#P43)\n",
    "\n",
    "[Comparacion de los modelos](#P5)\n",
    "* [Curva ROC](#P51)\n",
    "* [Funciones utiles para comparar los modelos](#P52)\n",
    "* [Tassas de error y limpieza de la lista PNB](#P53)\n"
   ]
  },
  {
   "cell_type": "markdown",
   "metadata": {},
   "source": [
    "# La base de datos"
   ]
  },
  {
   "cell_type": "markdown",
   "metadata": {},
   "source": [
    "Base mas completa (14 variables) pero los resultados estan menos buen que con la base de Gerana. A lo mejor, hay que ver con el muestra de observaciones."
   ]
  },
  {
   "cell_type": "code",
   "execution_count": 1,
   "metadata": {
    "collapsed": false
   },
   "outputs": [
    {
     "name": "stdout",
     "output_type": "stream",
     "text": [
      "Populating the interactive namespace from numpy and matplotlib\n"
     ]
    }
   ],
   "source": [
    "%pylab inline\n",
    "import pyensae\n",
    "import pandas, urllib.request\n",
    "import matplotlib.pyplot as plt\n",
    "import seaborn as sns\n",
    "import time\n",
    "from sklearn import preprocessing\n",
    "from sklearn import neural_network\n",
    "from sklearn import linear_model\n",
    "from sklearn import ensemble\n",
    "from sklearn import metrics\n",
    "from sklearn import neighbors\n",
    "from sklearn import svm\n",
    "from sklearn.cross_validation import train_test_split\n",
    "from sklearn.metrics import roc_curve, auc\n",
    "from sklearn.decomposition import PCA\n",
    "from pydoc import help\n",
    "from scipy.stats.stats import pearsonr, spearmanr\n",
    "from random import randrange"
   ]
  },
  {
   "cell_type": "code",
   "execution_count": 2,
   "metadata": {
    "collapsed": true
   },
   "outputs": [],
   "source": [
    "t3=time.clock()"
   ]
  },
  {
   "cell_type": "markdown",
   "metadata": {},
   "source": [
    "# Seleccion y vectorizacion de las variables pertinentes para hacer la prediccion"
   ]
  },
  {
   "cell_type": "code",
   "execution_count": 3,
   "metadata": {
    "collapsed": false,
    "scrolled": false
   },
   "outputs": [
    {
     "name": "stderr",
     "output_type": "stream",
     "text": [
      "/Library/Frameworks/Python.framework/Versions/3.4/lib/python3.4/site-packages/IPython/core/interactiveshell.py:2705: DtypeWarning: Columns (9) have mixed types. Specify dtype option on import or set low_memory=False.\n",
      "  interactivity=interactivity, compiler=compiler, result=result)\n"
     ]
    },
    {
     "data": {
      "text/html": [
       "<div>\n",
       "<table border=\"1\" class=\"dataframe\">\n",
       "  <thead>\n",
       "    <tr style=\"text-align: right;\">\n",
       "      <th></th>\n",
       "      <th>Unnamed: 0</th>\n",
       "      <th>Client</th>\n",
       "      <th>from address</th>\n",
       "      <th>from domain</th>\n",
       "      <th>destination user</th>\n",
       "      <th>has only words</th>\n",
       "      <th>has special chars</th>\n",
       "      <th>destination domain</th>\n",
       "      <th>attachments</th>\n",
       "      <th>has attachments</th>\n",
       "      <th>...</th>\n",
       "      <th>status_name</th>\n",
       "      <th>created</th>\n",
       "      <th>bounce detail</th>\n",
       "      <th>num_dominio</th>\n",
       "      <th>num_client</th>\n",
       "      <th>num_words</th>\n",
       "      <th>num_chars</th>\n",
       "      <th>attach</th>\n",
       "      <th>num_from</th>\n",
       "      <th>bounce</th>\n",
       "    </tr>\n",
       "    <tr>\n",
       "      <th>destination</th>\n",
       "      <th></th>\n",
       "      <th></th>\n",
       "      <th></th>\n",
       "      <th></th>\n",
       "      <th></th>\n",
       "      <th></th>\n",
       "      <th></th>\n",
       "      <th></th>\n",
       "      <th></th>\n",
       "      <th></th>\n",
       "      <th></th>\n",
       "      <th></th>\n",
       "      <th></th>\n",
       "      <th></th>\n",
       "      <th></th>\n",
       "      <th></th>\n",
       "      <th></th>\n",
       "      <th></th>\n",
       "      <th></th>\n",
       "      <th></th>\n",
       "      <th></th>\n",
       "    </tr>\n",
       "  </thead>\n",
       "  <tbody>\n",
       "    <tr>\n",
       "      <th>jobediente@gfaralon.com</th>\n",
       "      <td>0</td>\n",
       "      <td>BAC</td>\n",
       "      <td>credomatic-informa@pa.credomatic.com</td>\n",
       "      <td>pa.credomatic.com</td>\n",
       "      <td>jobediente</td>\n",
       "      <td>Y</td>\n",
       "      <td>N</td>\n",
       "      <td>gfaralon.com</td>\n",
       "      <td>NaN</td>\n",
       "      <td>N</td>\n",
       "      <td>...</td>\n",
       "      <td>Invalid domain</td>\n",
       "      <td>08/07/2016 0:00</td>\n",
       "      <td>NaN</td>\n",
       "      <td>2149</td>\n",
       "      <td>0</td>\n",
       "      <td>1</td>\n",
       "      <td>0</td>\n",
       "      <td>0</td>\n",
       "      <td>5</td>\n",
       "      <td>1</td>\n",
       "    </tr>\n",
       "    <tr>\n",
       "      <th>luisanaisa@hotmail.com</th>\n",
       "      <td>1</td>\n",
       "      <td>BAC</td>\n",
       "      <td>credomatic-informa@pa.credomatic.com</td>\n",
       "      <td>pa.credomatic.com</td>\n",
       "      <td>luisanaisa</td>\n",
       "      <td>Y</td>\n",
       "      <td>N</td>\n",
       "      <td>hotmail.com</td>\n",
       "      <td>NaN</td>\n",
       "      <td>N</td>\n",
       "      <td>...</td>\n",
       "      <td>Delivered</td>\n",
       "      <td>08/06/2016 23:59</td>\n",
       "      <td>NaN</td>\n",
       "      <td>2662</td>\n",
       "      <td>0</td>\n",
       "      <td>1</td>\n",
       "      <td>0</td>\n",
       "      <td>0</td>\n",
       "      <td>5</td>\n",
       "      <td>0</td>\n",
       "    </tr>\n",
       "    <tr>\n",
       "      <th>cmonte30@hotmail.com</th>\n",
       "      <td>2</td>\n",
       "      <td>BAC</td>\n",
       "      <td>credomatic-informa@pa.credomatic.com</td>\n",
       "      <td>pa.credomatic.com</td>\n",
       "      <td>cmonte30</td>\n",
       "      <td>N</td>\n",
       "      <td>N</td>\n",
       "      <td>hotmail.com</td>\n",
       "      <td>NaN</td>\n",
       "      <td>N</td>\n",
       "      <td>...</td>\n",
       "      <td>Viewed</td>\n",
       "      <td>08/06/2016 23:59</td>\n",
       "      <td>NaN</td>\n",
       "      <td>2662</td>\n",
       "      <td>0</td>\n",
       "      <td>0</td>\n",
       "      <td>0</td>\n",
       "      <td>0</td>\n",
       "      <td>5</td>\n",
       "      <td>0</td>\n",
       "    </tr>\n",
       "    <tr>\n",
       "      <th>roderick@mcgowensa.com</th>\n",
       "      <td>3</td>\n",
       "      <td>BAC</td>\n",
       "      <td>credomatic-informa@pa.credomatic.com</td>\n",
       "      <td>pa.credomatic.com</td>\n",
       "      <td>roderick</td>\n",
       "      <td>Y</td>\n",
       "      <td>N</td>\n",
       "      <td>mcgowensa.com</td>\n",
       "      <td>NaN</td>\n",
       "      <td>N</td>\n",
       "      <td>...</td>\n",
       "      <td>Viewed</td>\n",
       "      <td>08/06/2016 23:59</td>\n",
       "      <td>NaN</td>\n",
       "      <td>3457</td>\n",
       "      <td>0</td>\n",
       "      <td>1</td>\n",
       "      <td>0</td>\n",
       "      <td>0</td>\n",
       "      <td>5</td>\n",
       "      <td>0</td>\n",
       "    </tr>\n",
       "    <tr>\n",
       "      <th>manuelguevara@gmail.com</th>\n",
       "      <td>4</td>\n",
       "      <td>BAC</td>\n",
       "      <td>credomatic-informa@pa.credomatic.com</td>\n",
       "      <td>pa.credomatic.com</td>\n",
       "      <td>manuelguevara</td>\n",
       "      <td>Y</td>\n",
       "      <td>N</td>\n",
       "      <td>gmail.com</td>\n",
       "      <td>NaN</td>\n",
       "      <td>N</td>\n",
       "      <td>...</td>\n",
       "      <td>Delivered</td>\n",
       "      <td>08/06/2016 23:59</td>\n",
       "      <td>NaN</td>\n",
       "      <td>2209</td>\n",
       "      <td>0</td>\n",
       "      <td>1</td>\n",
       "      <td>0</td>\n",
       "      <td>0</td>\n",
       "      <td>5</td>\n",
       "      <td>0</td>\n",
       "    </tr>\n",
       "  </tbody>\n",
       "</table>\n",
       "<p>5 rows × 21 columns</p>\n",
       "</div>"
      ],
      "text/plain": [
       "                         Unnamed: 0 Client  \\\n",
       "destination                                  \n",
       "jobediente@gfaralon.com           0    BAC   \n",
       "luisanaisa@hotmail.com            1    BAC   \n",
       "cmonte30@hotmail.com              2    BAC   \n",
       "roderick@mcgowensa.com            3    BAC   \n",
       "manuelguevara@gmail.com           4    BAC   \n",
       "\n",
       "                                                 from address  \\\n",
       "destination                                                     \n",
       "jobediente@gfaralon.com  credomatic-informa@pa.credomatic.com   \n",
       "luisanaisa@hotmail.com   credomatic-informa@pa.credomatic.com   \n",
       "cmonte30@hotmail.com     credomatic-informa@pa.credomatic.com   \n",
       "roderick@mcgowensa.com   credomatic-informa@pa.credomatic.com   \n",
       "manuelguevara@gmail.com  credomatic-informa@pa.credomatic.com   \n",
       "\n",
       "                               from domain destination user has only words  \\\n",
       "destination                                                                  \n",
       "jobediente@gfaralon.com  pa.credomatic.com       jobediente              Y   \n",
       "luisanaisa@hotmail.com   pa.credomatic.com       luisanaisa              Y   \n",
       "cmonte30@hotmail.com     pa.credomatic.com         cmonte30              N   \n",
       "roderick@mcgowensa.com   pa.credomatic.com         roderick              Y   \n",
       "manuelguevara@gmail.com  pa.credomatic.com    manuelguevara              Y   \n",
       "\n",
       "                        has special chars destination domain attachments  \\\n",
       "destination                                                                \n",
       "jobediente@gfaralon.com                 N       gfaralon.com         NaN   \n",
       "luisanaisa@hotmail.com                  N        hotmail.com         NaN   \n",
       "cmonte30@hotmail.com                    N        hotmail.com         NaN   \n",
       "roderick@mcgowensa.com                  N      mcgowensa.com         NaN   \n",
       "manuelguevara@gmail.com                 N          gmail.com         NaN   \n",
       "\n",
       "                        has attachments   ...       status_name  \\\n",
       "destination                               ...                     \n",
       "jobediente@gfaralon.com               N   ...    Invalid domain   \n",
       "luisanaisa@hotmail.com                N   ...         Delivered   \n",
       "cmonte30@hotmail.com                  N   ...            Viewed   \n",
       "roderick@mcgowensa.com                N   ...            Viewed   \n",
       "manuelguevara@gmail.com               N   ...         Delivered   \n",
       "\n",
       "                                  created bounce detail num_dominio  \\\n",
       "destination                                                           \n",
       "jobediente@gfaralon.com   08/07/2016 0:00           NaN        2149   \n",
       "luisanaisa@hotmail.com   08/06/2016 23:59           NaN        2662   \n",
       "cmonte30@hotmail.com     08/06/2016 23:59           NaN        2662   \n",
       "roderick@mcgowensa.com   08/06/2016 23:59           NaN        3457   \n",
       "manuelguevara@gmail.com  08/06/2016 23:59           NaN        2209   \n",
       "\n",
       "                         num_client  num_words  num_chars  attach  num_from  \\\n",
       "destination                                                                   \n",
       "jobediente@gfaralon.com           0          1          0       0         5   \n",
       "luisanaisa@hotmail.com            0          1          0       0         5   \n",
       "cmonte30@hotmail.com              0          0          0       0         5   \n",
       "roderick@mcgowensa.com            0          1          0       0         5   \n",
       "manuelguevara@gmail.com           0          1          0       0         5   \n",
       "\n",
       "                         bounce  \n",
       "destination                      \n",
       "jobediente@gfaralon.com       1  \n",
       "luisanaisa@hotmail.com        0  \n",
       "cmonte30@hotmail.com          0  \n",
       "roderick@mcgowensa.com        0  \n",
       "manuelguevara@gmail.com       0  \n",
       "\n",
       "[5 rows x 21 columns]"
      ]
     },
     "execution_count": 3,
     "metadata": {},
     "output_type": "execute_result"
    }
   ],
   "source": [
    "#Importamos la base completa\n",
    "base_c=r'/Users/gillescornec/Desktop/Bases_QV/base_complete.csv'\n",
    "df_base_c = pandas.read_csv(base_c, sep=';')\n",
    "df_base=df_base_c.set_index(\"destination\")\n",
    "df_base.head()"
   ]
  },
  {
   "cell_type": "code",
   "execution_count": 4,
   "metadata": {
    "collapsed": true
   },
   "outputs": [],
   "source": [
    "def vectorisation(df_columna):\n",
    "\n",
    "    l=[]\n",
    "    for i in df_columna:\n",
    "        if i not in l:\n",
    "            l.append(i)\n",
    "\n",
    "    dico={}\n",
    "    for i in range(len(l)):\n",
    "        dico[l[i]]=i\n",
    "    \n",
    "    num_dom=[]\n",
    "    for i in df_columna:\n",
    "        num_dom.append(dico[i])\n",
    "    \n",
    "    return(num_dom, dico)"
   ]
  },
  {
   "cell_type": "code",
   "execution_count": 5,
   "metadata": {
    "collapsed": true
   },
   "outputs": [],
   "source": [
    "def df_vectorisé(base,liste_variable):\n",
    "    \n",
    "    #var_name=[\"destination domain\",\"Client\",\"from domain\",\"has attachments\", \"has only words\", \"has special chars\"]\n",
    "    l_vect=[]\n",
    "    var_dic=[]\n",
    "    \n",
    "    for i in liste_variable:\n",
    "        l_vect.append(pandas.DataFrame(vectorisation(base[i])[0],columns=[i]))\n",
    "        var_dic.append(vectorisation(base[i])[1])\n",
    "    #df_vect=pandas.concat(l_vect, axis=1)\n",
    "    \n",
    "    return (pandas.concat(l_vect, axis=1), var_dic)\n",
    "\n"
   ]
  },
  {
   "cell_type": "code",
   "execution_count": 6,
   "metadata": {
    "collapsed": true
   },
   "outputs": [],
   "source": [
    "var_name=[\"destination domain\",\"Client\",\"from domain\",\"has attachments\", \"has only words\", \"has special chars\"]\n",
    "df_vect=df_vectorisé(df_base,var_name)"
   ]
  },
  {
   "cell_type": "code",
   "execution_count": 7,
   "metadata": {
    "collapsed": false
   },
   "outputs": [],
   "source": [
    "#Separacion inputs/target\n",
    "base_inputs = df_vect[0]\n",
    "base_targets= df_base[\"bounce\"]"
   ]
  },
  {
   "cell_type": "code",
   "execution_count": 8,
   "metadata": {
    "collapsed": false
   },
   "outputs": [
    {
     "data": {
      "text/html": [
       "<div>\n",
       "<table border=\"1\" class=\"dataframe\">\n",
       "  <thead>\n",
       "    <tr style=\"text-align: right;\">\n",
       "      <th></th>\n",
       "      <th>destination domain</th>\n",
       "      <th>Client</th>\n",
       "      <th>from domain</th>\n",
       "      <th>has attachments</th>\n",
       "      <th>has only words</th>\n",
       "      <th>has special chars</th>\n",
       "    </tr>\n",
       "  </thead>\n",
       "  <tbody>\n",
       "    <tr>\n",
       "      <th>0</th>\n",
       "      <td>0</td>\n",
       "      <td>0</td>\n",
       "      <td>0</td>\n",
       "      <td>0</td>\n",
       "      <td>0</td>\n",
       "      <td>0</td>\n",
       "    </tr>\n",
       "    <tr>\n",
       "      <th>1</th>\n",
       "      <td>1</td>\n",
       "      <td>0</td>\n",
       "      <td>0</td>\n",
       "      <td>0</td>\n",
       "      <td>0</td>\n",
       "      <td>0</td>\n",
       "    </tr>\n",
       "    <tr>\n",
       "      <th>2</th>\n",
       "      <td>1</td>\n",
       "      <td>0</td>\n",
       "      <td>0</td>\n",
       "      <td>0</td>\n",
       "      <td>1</td>\n",
       "      <td>0</td>\n",
       "    </tr>\n",
       "    <tr>\n",
       "      <th>3</th>\n",
       "      <td>2</td>\n",
       "      <td>0</td>\n",
       "      <td>0</td>\n",
       "      <td>0</td>\n",
       "      <td>0</td>\n",
       "      <td>0</td>\n",
       "    </tr>\n",
       "    <tr>\n",
       "      <th>4</th>\n",
       "      <td>3</td>\n",
       "      <td>0</td>\n",
       "      <td>0</td>\n",
       "      <td>0</td>\n",
       "      <td>0</td>\n",
       "      <td>0</td>\n",
       "    </tr>\n",
       "  </tbody>\n",
       "</table>\n",
       "</div>"
      ],
      "text/plain": [
       "   destination domain  Client  from domain  has attachments  has only words  \\\n",
       "0                   0       0            0                0               0   \n",
       "1                   1       0            0                0               0   \n",
       "2                   1       0            0                0               1   \n",
       "3                   2       0            0                0               0   \n",
       "4                   3       0            0                0               0   \n",
       "\n",
       "   has special chars  \n",
       "0                  0  \n",
       "1                  0  \n",
       "2                  0  \n",
       "3                  0  \n",
       "4                  0  "
      ]
     },
     "execution_count": 8,
     "metadata": {},
     "output_type": "execute_result"
    }
   ],
   "source": [
    "base_inputs.head()"
   ]
  },
  {
   "cell_type": "markdown",
   "metadata": {},
   "source": [
    "# Implementacion de los diferentes modelos"
   ]
  },
  {
   "cell_type": "markdown",
   "metadata": {},
   "source": [
    "Logistic regression / Random forest / Neural network"
   ]
  },
  {
   "cell_type": "markdown",
   "metadata": {},
   "source": [
    "## Separacion en base de aprentizaje y base de prueba"
   ]
  },
  {
   "cell_type": "markdown",
   "metadata": {},
   "source": [
    "Separamos el base en un base de aprentizaje y un base de prueba"
   ]
  },
  {
   "cell_type": "code",
   "execution_count": 9,
   "metadata": {
    "collapsed": false
   },
   "outputs": [
    {
     "name": "stdout",
     "output_type": "stream",
     "text": [
      "(91427, 6) (91427,)\n"
     ]
    },
    {
     "data": {
      "text/plain": [
       "destination\n",
       "monica.alexandra@hotmail.com    0\n",
       "renato-mejia@hotmail.com        0\n",
       "josemanuelrivas@live.com        0\n",
       "mpolanco29@gmail.com            0\n",
       "pty6688@gmail.com               0\n",
       "Name: bounce, dtype: int64"
      ]
     },
     "execution_count": 9,
     "metadata": {},
     "output_type": "execute_result"
    }
   ],
   "source": [
    "from sklearn.cross_validation import train_test_split\n",
    "X_train, X_test, y_train, y_test = train_test_split(base_inputs, base_targets, test_size=0.25)\n",
    "print(X_train.shape, y_train.shape)\n",
    "y_test.head()"
   ]
  },
  {
   "cell_type": "code",
   "execution_count": 10,
   "metadata": {
    "collapsed": false
   },
   "outputs": [
    {
     "data": {
      "text/plain": [
       "pandas.core.series.Series"
      ]
     },
     "execution_count": 10,
     "metadata": {},
     "output_type": "execute_result"
    }
   ],
   "source": [
    "type(y_test)"
   ]
  },
  {
   "cell_type": "code",
   "execution_count": 11,
   "metadata": {
    "collapsed": false
   },
   "outputs": [
    {
     "data": {
      "text/plain": [
       "0"
      ]
     },
     "execution_count": 11,
     "metadata": {},
     "output_type": "execute_result"
    }
   ],
   "source": [
    "y_test[1]"
   ]
  },
  {
   "cell_type": "markdown",
   "metadata": {},
   "source": [
    "## Los modelos"
   ]
  },
  {
   "cell_type": "markdown",
   "metadata": {},
   "source": [
    "### Ridge Regression"
   ]
  },
  {
   "cell_type": "markdown",
   "metadata": {},
   "source": [
    "Para utilizar un modelo de regression logistic, debemos tener variables numericas repartidas en categorias."
   ]
  },
  {
   "cell_type": "code",
   "execution_count": 12,
   "metadata": {
    "collapsed": false
   },
   "outputs": [
    {
     "data": {
      "text/plain": [
       "array([ 0.31238697,  0.19308127,  0.32235729, ...,  0.19418217,\n",
       "        0.48794771,  0.5984426 ])"
      ]
     },
     "execution_count": 12,
     "metadata": {},
     "output_type": "execute_result"
    }
   ],
   "source": [
    "#tiempo de calcul: algunos segundos\n",
    "logistic = linear_model.Ridge(alpha=10.0)\n",
    "logit=logistic.fit(X_train,y_train)\n",
    "y_pred_Ridge=logit.predict(X_test)\n",
    "y_pred_Ridge"
   ]
  },
  {
   "cell_type": "markdown",
   "metadata": {},
   "source": [
    "### Logistic regression (logit)"
   ]
  },
  {
   "cell_type": "code",
   "execution_count": 13,
   "metadata": {
    "collapsed": false
   },
   "outputs": [
    {
     "data": {
      "text/plain": [
       "array([0, 0, 0, ..., 0, 1, 1])"
      ]
     },
     "execution_count": 13,
     "metadata": {},
     "output_type": "execute_result"
    }
   ],
   "source": [
    "#algunos segundos\n",
    "LR = linear_model.LogisticRegression()\n",
    "LR_fit=LR.fit(X_train,y_train)\n",
    "y_pred_LR=LR_fit.predict(X_test)\n",
    "y_pred_LR"
   ]
  },
  {
   "cell_type": "markdown",
   "metadata": {},
   "source": [
    "###  Lasso"
   ]
  },
  {
   "cell_type": "code",
   "execution_count": 14,
   "metadata": {
    "collapsed": false
   },
   "outputs": [
    {
     "data": {
      "text/plain": [
       "array([ 0.31238697,  0.19308127,  0.32235729, ...,  0.19418217,\n",
       "        0.48794771,  0.5984426 ])"
      ]
     },
     "execution_count": 14,
     "metadata": {},
     "output_type": "execute_result"
    }
   ],
   "source": [
    "Lasso = linear_model.Lasso(alpha = 0.1)\n",
    "Lasso_fit=logistic.fit(X_train,y_train)\n",
    "y_pred_lasso=Lasso_fit.predict(X_test)\n",
    "y_pred_lasso"
   ]
  },
  {
   "cell_type": "markdown",
   "metadata": {},
   "source": [
    "### Elastic Net"
   ]
  },
  {
   "cell_type": "code",
   "execution_count": 15,
   "metadata": {
    "collapsed": false
   },
   "outputs": [
    {
     "data": {
      "text/plain": [
       "array([ 0.27543182,  0.19995909,  0.28479877, ...,  0.20010777,\n",
       "        0.42637727,  0.57821482])"
      ]
     },
     "execution_count": 15,
     "metadata": {},
     "output_type": "execute_result"
    }
   ],
   "source": [
    "EN = linear_model.ElasticNet(alpha=0.1)\n",
    "EN_fit=EN.fit(X_train,y_train)\n",
    "y_pred_EN=EN_fit.predict(X_test)\n",
    "y_pred_EN"
   ]
  },
  {
   "cell_type": "markdown",
   "metadata": {},
   "source": [
    "###  Bayesian Ridge"
   ]
  },
  {
   "cell_type": "code",
   "execution_count": 16,
   "metadata": {
    "collapsed": false
   },
   "outputs": [
    {
     "data": {
      "text/plain": [
       "array([ 0.31211286,  0.19296936,  0.32208626, ...,  0.19407811,\n",
       "        0.48767079,  0.59846016])"
      ]
     },
     "execution_count": 16,
     "metadata": {},
     "output_type": "execute_result"
    }
   ],
   "source": [
    "BR = linear_model.BayesianRidge()\n",
    "BR_fit=BR.fit(X_train,y_train)\n",
    "y_pred_BR=BR_fit.predict(X_test)\n",
    "y_pred_BR"
   ]
  },
  {
   "cell_type": "markdown",
   "metadata": {},
   "source": [
    "### KNN"
   ]
  },
  {
   "cell_type": "code",
   "execution_count": 17,
   "metadata": {
    "collapsed": false
   },
   "outputs": [
    {
     "data": {
      "text/plain": [
       "array([ 0.2,  0.4,  0.2, ...,  0.2,  1. ,  0.6])"
      ]
     },
     "execution_count": 17,
     "metadata": {},
     "output_type": "execute_result"
    }
   ],
   "source": [
    "#9s\n",
    "KNN= neighbors.KNeighborsRegressor()\n",
    "KNN_fit=KNN.fit(X_train,y_train)\n",
    "y_pred_KNN=KNN_fit.predict(X_test)\n",
    "y_pred_KNN"
   ]
  },
  {
   "cell_type": "markdown",
   "metadata": {},
   "source": [
    "### SVM"
   ]
  },
  {
   "cell_type": "code",
   "execution_count": 18,
   "metadata": {
    "collapsed": false
   },
   "outputs": [
    {
     "data": {
      "text/plain": [
       "array([ 0.00430943,  0.0034668 ,  0.04335914, ...,  0.00246808,\n",
       "        0.3378812 ,  1.01214913])"
      ]
     },
     "execution_count": 18,
     "metadata": {},
     "output_type": "execute_result"
    }
   ],
   "source": [
    "#1min\n",
    "SVM= svm.LinearSVR()\n",
    "SVM_fit=SVM.fit(X_train,y_train)\n",
    "y_pred_SVM=SVM_fit.predict(X_test)\n",
    "y_pred_SVM"
   ]
  },
  {
   "cell_type": "markdown",
   "metadata": {},
   "source": [
    "### Neural Network"
   ]
  },
  {
   "cell_type": "code",
   "execution_count": 19,
   "metadata": {
    "collapsed": false
   },
   "outputs": [
    {
     "name": "stdout",
     "output_type": "stream",
     "text": [
      "<class 'numpy.ndarray'>\n"
     ]
    }
   ],
   "source": [
    "X_train_1=X_train.as_matrix()\n",
    "y_train_1=y_train.as_matrix()\n",
    "print(type(y_train_1))"
   ]
  },
  {
   "cell_type": "code",
   "execution_count": 20,
   "metadata": {
    "collapsed": false
   },
   "outputs": [
    {
     "name": "stderr",
     "output_type": "stream",
     "text": [
      "Using Theano backend.\n"
     ]
    }
   ],
   "source": [
    "from keras.models import Sequential\n",
    "from keras.layers import Dense\n",
    "import numpy\n",
    "# fix random seed for reproducibility\n",
    "seed = 7\n",
    "numpy.random.seed(seed)"
   ]
  },
  {
   "cell_type": "code",
   "execution_count": 21,
   "metadata": {
    "collapsed": true
   },
   "outputs": [],
   "source": [
    "# create model\n",
    "model = Sequential()\n",
    "model.add(Dense(12, input_dim=6, init='uniform', activation='relu'))\n",
    "model.add(Dense(8, init='uniform', activation='relu'))\n",
    "model.add(Dense(1, init='uniform', activation='sigmoid'))"
   ]
  },
  {
   "cell_type": "code",
   "execution_count": 22,
   "metadata": {
    "collapsed": true
   },
   "outputs": [],
   "source": [
    "#compile model\n",
    "model.compile(loss='mean_squared_error', optimizer='rmsprop', metrics=['accuracy'])"
   ]
  },
  {
   "cell_type": "code",
   "execution_count": 23,
   "metadata": {
    "collapsed": false
   },
   "outputs": [
    {
     "name": "stdout",
     "output_type": "stream",
     "text": [
      "Epoch 1/5\n",
      "91427/91427 [==============================] - 7s - loss: 0.1894 - acc: 0.7017     \n",
      "Epoch 2/5\n",
      "91427/91427 [==============================] - 7s - loss: 0.1794 - acc: 0.7361     \n",
      "Epoch 3/5\n",
      "91427/91427 [==============================] - 7s - loss: 0.1775 - acc: 0.7428     \n",
      "Epoch 4/5\n",
      "91427/91427 [==============================] - 7s - loss: 0.1771 - acc: 0.7431     \n",
      "Epoch 5/5\n",
      "91427/91427 [==============================] - 7s - loss: 0.1775 - acc: 0.7436     \n"
     ]
    },
    {
     "data": {
      "text/plain": [
       "<keras.callbacks.History at 0x1154df860>"
      ]
     },
     "execution_count": 23,
     "metadata": {},
     "output_type": "execute_result"
    }
   ],
   "source": [
    "#2min\n",
    "# Fit the model\n",
    "model.fit(X_train_1, y_train_1, nb_epoch=5, batch_size=10)"
   ]
  },
  {
   "cell_type": "code",
   "execution_count": 24,
   "metadata": {
    "collapsed": true
   },
   "outputs": [],
   "source": [
    "X_test_1=X_test.as_matrix()\n",
    "y_test_1=y_test.as_matrix()\n",
    "y_pred_NN=model.predict(X_test_1)"
   ]
  },
  {
   "cell_type": "markdown",
   "metadata": {},
   "source": [
    "### DecisionTreeRegressor"
   ]
  },
  {
   "cell_type": "code",
   "execution_count": 25,
   "metadata": {
    "collapsed": false
   },
   "outputs": [
    {
     "data": {
      "text/plain": [
       "array([ 0.33027523,  0.1987526 ,  0.23076923, ...,  0.08446456,\n",
       "        0.63270777,  0.5       ])"
      ]
     },
     "execution_count": 25,
     "metadata": {},
     "output_type": "execute_result"
    }
   ],
   "source": [
    "from sklearn import tree\n",
    "\n",
    "DTR=tree.DecisionTreeRegressor()\n",
    "DTR_fit=DTR.fit(X_train,y_train)\n",
    "y_pred_DTR=DTR_fit.predict(X_test)\n",
    "y_pred_DTR"
   ]
  },
  {
   "cell_type": "markdown",
   "metadata": {},
   "source": [
    "### RF regressor"
   ]
  },
  {
   "cell_type": "code",
   "execution_count": 26,
   "metadata": {
    "collapsed": false
   },
   "outputs": [
    {
     "name": "stdout",
     "output_type": "stream",
     "text": [
      "[ 0.66663975  0.35996169  0.48123883 ...,  0.8         0.09948057\n",
      "  0.26506865]\n"
     ]
    },
    {
     "name": "stderr",
     "output_type": "stream",
     "text": [
      "/Library/Frameworks/Python.framework/Versions/3.4/lib/python3.4/site-packages/sklearn/ensemble/forest.py:687: UserWarning: Some inputs do not have OOB scores. This probably means too few trees were used to compute any reliable oob estimates.\n",
      "  warn(\"Some inputs do not have OOB scores. \"\n"
     ]
    }
   ],
   "source": [
    "RF_regressor = ensemble.RandomForestRegressor(oob_score=True)\n",
    "RF_regressor_fit=RF_regressor.fit(X_train,y_train)\n",
    "out_of_bag_prediction_for_X_train=RF_regressor.oob_prediction_\n",
    "print(out_of_bag_prediction_for_X_train)"
   ]
  },
  {
   "cell_type": "code",
   "execution_count": 27,
   "metadata": {
    "collapsed": false
   },
   "outputs": [
    {
     "data": {
      "text/plain": [
       "array([ 0.32855767,  0.1988384 ,  0.21636384, ...,  0.08398205,\n",
       "        0.63200679,  0.50003503])"
      ]
     },
     "execution_count": 27,
     "metadata": {},
     "output_type": "execute_result"
    }
   ],
   "source": [
    "y_pred_RF=RF_regressor.predict(X_test)\n",
    "y_pred_RF"
   ]
  },
  {
   "cell_type": "markdown",
   "metadata": {},
   "source": [
    "## Importancia de los differentes variables en la construccion del modelo"
   ]
  },
  {
   "cell_type": "code",
   "execution_count": 28,
   "metadata": {
    "collapsed": false
   },
   "outputs": [
    {
     "data": {
      "text/plain": [
       "<matplotlib.text.Text at 0x115699940>"
      ]
     },
     "execution_count": 28,
     "metadata": {},
     "output_type": "execute_result"
    },
    {
     "data": {
      "image/png": "[encoded data removed]",
      "text/plain": [
       "<matplotlib.figure.Figure at 0x115655ba8>"
      ]
     },
     "metadata": {},
     "output_type": "display_data"
    }
   ],
   "source": [
    "feature_name = base_inputs.columns\n",
    "limit = 20\n",
    "feature_importance = RF_regressor_fit.feature_importances_[:20]\n",
    "feature_importance = 100.0 * (feature_importance / feature_importance.max())\n",
    "sorted_idx = np.argsort(feature_importance)\n",
    "pos = np.arange(sorted_idx.shape[0]) + .5\n",
    "plt.subplot(1, 2, 2)\n",
    "plt.barh(pos, feature_importance[sorted_idx], align='center')\n",
    "plt.yticks(pos, feature_name[sorted_idx])\n",
    "plt.xlabel('Relative Importance')\n",
    "plt.title('Variable Importance')"
   ]
  },
  {
   "cell_type": "markdown",
   "metadata": {},
   "source": [
    "# Comparacion de los modelos"
   ]
  },
  {
   "cell_type": "markdown",
   "metadata": {},
   "source": [
    "## Curva ROC"
   ]
  },
  {
   "cell_type": "code",
   "execution_count": 29,
   "metadata": {
    "collapsed": false
   },
   "outputs": [
    {
     "data": {
      "text/plain": [
       "<matplotlib.legend.Legend at 0x1156daef0>"
      ]
     },
     "execution_count": 29,
     "metadata": {},
     "output_type": "execute_result"
    },
    {
     "data": {
      "image/png": "[encoded data removed]",
      "text/plain": [
       "<matplotlib.figure.Figure at 0x1154df908>"
      ]
     },
     "metadata": {},
     "output_type": "display_data"
    }
   ],
   "source": [
    "fpr_logit_lm, tpr_logit_lm, _ = metrics.roc_curve(y_test, y_pred_LR)\n",
    "fpr_RF_lm, tpr_RF_lm, _ = metrics.roc_curve(y_test, y_pred_RF)\n",
    "fpr_lasso_lm, tpr_lasso_lm, _ = metrics.roc_curve(y_test, y_pred_lasso)\n",
    "fpr_EN_lm, tpr_EN_lm, _ = metrics.roc_curve(y_test, y_pred_EN)\n",
    "fpr_BR_lm, tpr_BR_lm, _ = metrics.roc_curve(y_test, y_pred_BR)\n",
    "fpr_KNN_lm, tpr_KNN_lm, _ = metrics.roc_curve(y_test, y_pred_KNN)\n",
    "fpr_SVM_lm, tpr_SVM_lm, _ = metrics.roc_curve(y_test, y_pred_SVM)\n",
    "fpr_DTR_lm, tpr_DTR_lm, _ = metrics.roc_curve(y_test, y_pred_DTR)\n",
    "fpr_NN_lm, tpr_NN_lm, _ =metrics.roc_curve(y_test_1,y_pred_NN)\n",
    "\n",
    "roc_auc = auc(fpr_RF_lm, tpr_RF_lm)\n",
    "\n",
    "plt.plot(fpr_logit_lm, tpr_logit_lm, color='blue')\n",
    "plt.plot(fpr_RF_lm,tpr_RF_lm, color='green',label='ROC curve (area = %0.2f)' % roc_auc)\n",
    "plt.plot(fpr_lasso_lm,tpr_lasso_lm, color='red')\n",
    "plt.plot(fpr_EN_lm,tpr_EN_lm, color='cyan')\n",
    "plt.plot(fpr_BR_lm,tpr_BR_lm, color='yellow')\n",
    "plt.plot(fpr_KNN_lm,tpr_KNN_lm, color='magenta')\n",
    "plt.plot(fpr_SVM_lm,tpr_SVM_lm, color='white')\n",
    "plt.plot(fpr_DTR_lm,tpr_DTR_lm, color='gray')\n",
    "plt.plot(fpr_NN_lm, tpr_NN_lm, color='brown')\n",
    "\n",
    "plt.plot([0, 1], [0, 1], 'k--')\n",
    "plt.legend(loc=\"lower right\")"
   ]
  },
  {
   "cell_type": "markdown",
   "metadata": {},
   "source": [
    "El modelo que tiene la mas grande area abajo de su curva es el mejor. Por eso, RF parece el mejor modelo."
   ]
  },
  {
   "cell_type": "markdown",
   "metadata": {},
   "source": [
    "Preciso, solidez y tiempo de computado (calibrado y prueba)"
   ]
  },
  {
   "cell_type": "markdown",
   "metadata": {},
   "source": [
    "## Funciones utiles para comparar los modelos"
   ]
  },
  {
   "cell_type": "code",
   "execution_count": 30,
   "metadata": {
    "collapsed": true
   },
   "outputs": [],
   "source": [
    "#attencion no significa la misma cosa en funcion de la columna (test o pred)\n",
    "def porcentaje_0(columna):\n",
    "    p=0\n",
    "    for i in range(len(columna)):\n",
    "        if columna[i]==0:\n",
    "            p=p+1\n",
    "    return (p/len(columna))"
   ]
  },
  {
   "cell_type": "code",
   "execution_count": 31,
   "metadata": {
    "collapsed": true
   },
   "outputs": [],
   "source": [
    "# % de 1 en los NB\n",
    "def FP(columna_test,columna_pred):\n",
    "    l=0\n",
    "    p=0\n",
    "    for i in range(len(columna_test)):\n",
    "        if columna_test[i]==0:\n",
    "            l=l+1\n",
    "            if columna_pred[i]==1:\n",
    "                p=p+1\n",
    "    if l!=0:\n",
    "        return p/l\n",
    "    else:\n",
    "        return 1"
   ]
  },
  {
   "cell_type": "code",
   "execution_count": 32,
   "metadata": {
    "collapsed": true
   },
   "outputs": [],
   "source": [
    "# % de 1 en los B\n",
    "def VP(columna_test,columna_pred):\n",
    "    l=0\n",
    "    p=0\n",
    "    for i in range(len(columna_test)):\n",
    "        if columna_test[i]==1:\n",
    "            l=l+1\n",
    "            if columna_pred[i]==1:\n",
    "                p=p+1\n",
    "    if l!=0:\n",
    "        return p/l\n",
    "    else:\n",
    "        return 1"
   ]
  },
  {
   "cell_type": "code",
   "execution_count": 33,
   "metadata": {
    "collapsed": true
   },
   "outputs": [],
   "source": [
    "#colonne muette\n",
    "def attribution(columna,threshold):\n",
    "    c=np.zeros(shape(columna)[0])\n",
    "    for i in range(len(columna)):\n",
    "        if columna[i]>= threshold:\n",
    "            c[i]=1\n",
    "        else:\n",
    "            c[i]=0\n",
    "    return c"
   ]
  },
  {
   "cell_type": "code",
   "execution_count": 34,
   "metadata": {
    "collapsed": true
   },
   "outputs": [],
   "source": [
    "# % de NB en la lista PNB\n",
    "def val_pred_neg(columna_test,columna_pred):\n",
    "    l=0\n",
    "    p=0\n",
    "    for i in range(len(columna_pred)):\n",
    "        if columna_pred[i]==0:\n",
    "            l=l+1\n",
    "            if columna_test[i]==0:\n",
    "                p=p+1\n",
    "    if l!=0:\n",
    "        return p/l\n",
    "    else:\n",
    "        return 1"
   ]
  },
  {
   "cell_type": "code",
   "execution_count": 35,
   "metadata": {
    "collapsed": true
   },
   "outputs": [],
   "source": [
    "# % de B en la lista PB (=1-%NB en la lista PB)\n",
    "def val_pred_pos(columna_test,columna_pred):\n",
    "    l=0\n",
    "    p=0\n",
    "    for i in range(len(columna_pred)):\n",
    "        if columna_pred[i]==1:\n",
    "            l=l+1\n",
    "            if columna_test[i]==1:\n",
    "                p=p+1\n",
    "    if l!=0:\n",
    "        return p/l\n",
    "    else:\n",
    "        return 1"
   ]
  },
  {
   "cell_type": "code",
   "execution_count": 36,
   "metadata": {
    "collapsed": true
   },
   "outputs": [],
   "source": [
    "def seuil(y_test,y_pred):\n",
    "    threshold=[i/100 for i in range(1,100)]\n",
    "    l=[]\n",
    "    for i in threshold:\n",
    "        #print(i)\n",
    "        a=attribution(y_pred,i)\n",
    "        #print(1-(VP(y_test,a)+1-FP(y_test,a))/2)\n",
    "        l.append(1-(VP(y_test,a)+1-FP(y_test,a))/2)\n",
    "    b=min(l)  \n",
    "    s=l.index(b)/100\n",
    "    #print(s)\n",
    "    a=attribution(y_pred,s)\n",
    "    VPN=val_pred_neg(y_test,a)\n",
    "    VPP=val_pred_pos(y_test,a)\n",
    "    \n",
    "    return (s, VPN, VPP, b)"
   ]
  },
  {
   "cell_type": "markdown",
   "metadata": {},
   "source": [
    "## Tassas de error y limpieza de la lista PNB (Predicion No Bounce)"
   ]
  },
  {
   "cell_type": "code",
   "execution_count": 37,
   "metadata": {
    "collapsed": true
   },
   "outputs": [],
   "source": [
    "y_test_1=y_test.as_matrix()"
   ]
  },
  {
   "cell_type": "code",
   "execution_count": 38,
   "metadata": {
    "collapsed": false
   },
   "outputs": [],
   "source": [
    "# !!! la columna_test debe ser un array (tambien por la columna_pred)\n",
    "def cuadro_recapitulativo(columna_test,columna_pred):\n",
    "    \n",
    "    t=pandas.DataFrame([ {\"threshold\":0,\"FP (% de 1 en los NB)\":0,\"VN (% de 0 en los NB)\":0,\"VP (% de 1 en los B)\":0,\"FN (% de 0 en los B)\":0, \"VPN (% de NB en la lista 0)\":0,\"% de B en la lista 0\":0,\"VPP (% de B en la lista 1)\":0,\"% de NB en la lista 1\":0, \"porcentaje de 0 predicto\":0,\"porcentaje de NB\":0, \"tassa de error de identificacion\":0,\"tassa de error de prediccion\":0}])\n",
    "    l=[]\n",
    "    l.append(t)\n",
    "    a=[]\n",
    "    b=[]\n",
    "    TLB=[]\n",
    "    VPN=[]\n",
    "    VPP=[]\n",
    "    P_NB=porcentaje_0(columna_test)\n",
    "    P_B=1-P_NB\n",
    "    p=0\n",
    "    threshold=[i/100 for i in range(20,70)]\n",
    "    for j in threshold:\n",
    "        y_pred_RF3=attribution(columna_pred,j)\n",
    "        #print(y_pred_RF3)\n",
    "        #print(VP(y_test_1,y_pred_RF3))\n",
    "        #print(a)\n",
    "        #print(VP(columna_test,y_pred_RF3))\n",
    "        a.append(VP(columna_test,y_pred_RF3))\n",
    "        #print(a[p])\n",
    "        b.append(FP(columna_test,y_pred_RF3))\n",
    "        #print(FP(y_test_1,y_pred_RF3))\n",
    "        #print(b[p])\n",
    "        TLB.append(porcentaje_0(y_pred_RF3))\n",
    "        VPN.append((1-b[p])*P_NB/((1-b[p])*P_NB+(1-a[p])*(1-P_NB)))\n",
    "        #print(VPN[p])\n",
    "        VPP.append(a[p]*P_B/(a[p]*P_B+b[p]*P_NB))\n",
    "    \n",
    "        d=l[p].append([{\"threshold\":j,\"FP (% de 1 en los NB)\":b[p],\"VN (% de 0 en los NB)\":1-b[p],\"VP (% de 1 en los B)\":a[p],\"FN (% de 0 en los B)\":1-a[p], \"VPN (% de NB en la lista 0)\":VPN[p],\"% de B en la lista 0\":1-VPN[p],\"VPP (% de B en la lista 1)\":VPP[p],\"% de NB en la lista 1\":1-VPP[p], \"porcentaje de 0 predicto\":TLB[p],\"porcentaje de NB\":P_NB, \"tassa de error de identificacion\":(b[p]+1-a[p])/2, \"tassa de error de prediccion\":1-(VPP[p]+VPN[p])/2}])\n",
    "        l.append(d)\n",
    "            \n",
    "        p=p+1\n",
    "            \n",
    "    b=l[p].set_index(\"threshold\")\n",
    "    c=b.drop([0])\n",
    "    \n",
    "    return c"
   ]
  },
  {
   "cell_type": "code",
   "execution_count": 39,
   "metadata": {
    "collapsed": false
   },
   "outputs": [
    {
     "data": {
      "text/html": [
       "<div>\n",
       "<table border=\"1\" class=\"dataframe\">\n",
       "  <thead>\n",
       "    <tr style=\"text-align: right;\">\n",
       "      <th></th>\n",
       "      <th>% de B en la lista 0</th>\n",
       "      <th>% de NB en la lista 1</th>\n",
       "      <th>FN (% de 0 en los B)</th>\n",
       "      <th>FP (% de 1 en los NB)</th>\n",
       "      <th>VN (% de 0 en los NB)</th>\n",
       "      <th>VP (% de 1 en los B)</th>\n",
       "      <th>VPN (% de NB en la lista 0)</th>\n",
       "      <th>VPP (% de B en la lista 1)</th>\n",
       "      <th>porcentaje de 0 predicto</th>\n",
       "      <th>porcentaje de NB</th>\n",
       "      <th>tassa de error de identificacion</th>\n",
       "      <th>tassa de error de prediccion</th>\n",
       "    </tr>\n",
       "    <tr>\n",
       "      <th>threshold</th>\n",
       "      <th></th>\n",
       "      <th></th>\n",
       "      <th></th>\n",
       "      <th></th>\n",
       "      <th></th>\n",
       "      <th></th>\n",
       "      <th></th>\n",
       "      <th></th>\n",
       "      <th></th>\n",
       "      <th></th>\n",
       "      <th></th>\n",
       "      <th></th>\n",
       "    </tr>\n",
       "  </thead>\n",
       "  <tbody>\n",
       "    <tr>\n",
       "      <th>0.20</th>\n",
       "      <td>0.119046</td>\n",
       "      <td>0.436301</td>\n",
       "      <td>0.163976</td>\n",
       "      <td>0.347795</td>\n",
       "      <td>0.652205</td>\n",
       "      <td>0.836024</td>\n",
       "      <td>0.880954</td>\n",
       "      <td>0.563699</td>\n",
       "      <td>0.481526</td>\n",
       "      <td>0.650413</td>\n",
       "      <td>0.255886</td>\n",
       "      <td>0.277674</td>\n",
       "    </tr>\n",
       "    <tr>\n",
       "      <th>0.21</th>\n",
       "      <td>0.121443</td>\n",
       "      <td>0.434168</td>\n",
       "      <td>0.169044</td>\n",
       "      <td>0.342700</td>\n",
       "      <td>0.657300</td>\n",
       "      <td>0.830956</td>\n",
       "      <td>0.878557</td>\n",
       "      <td>0.565832</td>\n",
       "      <td>0.486612</td>\n",
       "      <td>0.650413</td>\n",
       "      <td>0.255872</td>\n",
       "      <td>0.277806</td>\n",
       "    </tr>\n",
       "    <tr>\n",
       "      <th>0.22</th>\n",
       "      <td>0.122025</td>\n",
       "      <td>0.431121</td>\n",
       "      <td>0.171297</td>\n",
       "      <td>0.337554</td>\n",
       "      <td>0.662446</td>\n",
       "      <td>0.828703</td>\n",
       "      <td>0.877975</td>\n",
       "      <td>0.568879</td>\n",
       "      <td>0.490747</td>\n",
       "      <td>0.650413</td>\n",
       "      <td>0.254426</td>\n",
       "      <td>0.276573</td>\n",
       "    </tr>\n",
       "    <tr>\n",
       "      <th>0.23</th>\n",
       "      <td>0.123205</td>\n",
       "      <td>0.429839</td>\n",
       "      <td>0.173925</td>\n",
       "      <td>0.334729</td>\n",
       "      <td>0.665271</td>\n",
       "      <td>0.826075</td>\n",
       "      <td>0.876795</td>\n",
       "      <td>0.570161</td>\n",
       "      <td>0.493503</td>\n",
       "      <td>0.650413</td>\n",
       "      <td>0.254327</td>\n",
       "      <td>0.276522</td>\n",
       "    </tr>\n",
       "    <tr>\n",
       "      <th>0.24</th>\n",
       "      <td>0.124225</td>\n",
       "      <td>0.427172</td>\n",
       "      <td>0.176835</td>\n",
       "      <td>0.329936</td>\n",
       "      <td>0.670064</td>\n",
       "      <td>0.823165</td>\n",
       "      <td>0.875775</td>\n",
       "      <td>0.572828</td>\n",
       "      <td>0.497637</td>\n",
       "      <td>0.650413</td>\n",
       "      <td>0.253386</td>\n",
       "      <td>0.275699</td>\n",
       "    </tr>\n",
       "    <tr>\n",
       "      <th>0.25</th>\n",
       "      <td>0.124407</td>\n",
       "      <td>0.427059</td>\n",
       "      <td>0.177210</td>\n",
       "      <td>0.329634</td>\n",
       "      <td>0.670366</td>\n",
       "      <td>0.822790</td>\n",
       "      <td>0.875593</td>\n",
       "      <td>0.572941</td>\n",
       "      <td>0.497966</td>\n",
       "      <td>0.650413</td>\n",
       "      <td>0.253422</td>\n",
       "      <td>0.275733</td>\n",
       "    </tr>\n",
       "    <tr>\n",
       "      <th>0.26</th>\n",
       "      <td>0.127460</td>\n",
       "      <td>0.417568</td>\n",
       "      <td>0.186597</td>\n",
       "      <td>0.313440</td>\n",
       "      <td>0.686560</td>\n",
       "      <td>0.813403</td>\n",
       "      <td>0.872540</td>\n",
       "      <td>0.582432</td>\n",
       "      <td>0.511780</td>\n",
       "      <td>0.650413</td>\n",
       "      <td>0.250018</td>\n",
       "      <td>0.272514</td>\n",
       "    </tr>\n",
       "    <tr>\n",
       "      <th>0.27</th>\n",
       "      <td>0.128437</td>\n",
       "      <td>0.412890</td>\n",
       "      <td>0.190257</td>\n",
       "      <td>0.306074</td>\n",
       "      <td>0.693926</td>\n",
       "      <td>0.809743</td>\n",
       "      <td>0.871563</td>\n",
       "      <td>0.587110</td>\n",
       "      <td>0.517850</td>\n",
       "      <td>0.650413</td>\n",
       "      <td>0.248166</td>\n",
       "      <td>0.270664</td>\n",
       "    </tr>\n",
       "    <tr>\n",
       "      <th>0.28</th>\n",
       "      <td>0.128789</td>\n",
       "      <td>0.412675</td>\n",
       "      <td>0.191008</td>\n",
       "      <td>0.305519</td>\n",
       "      <td>0.694481</td>\n",
       "      <td>0.808992</td>\n",
       "      <td>0.871211</td>\n",
       "      <td>0.587325</td>\n",
       "      <td>0.518474</td>\n",
       "      <td>0.650413</td>\n",
       "      <td>0.248264</td>\n",
       "      <td>0.270732</td>\n",
       "    </tr>\n",
       "    <tr>\n",
       "      <th>0.29</th>\n",
       "      <td>0.129240</td>\n",
       "      <td>0.412223</td>\n",
       "      <td>0.192041</td>\n",
       "      <td>0.304561</td>\n",
       "      <td>0.695439</td>\n",
       "      <td>0.807959</td>\n",
       "      <td>0.870760</td>\n",
       "      <td>0.587777</td>\n",
       "      <td>0.519458</td>\n",
       "      <td>0.650413</td>\n",
       "      <td>0.248301</td>\n",
       "      <td>0.270731</td>\n",
       "    </tr>\n",
       "    <tr>\n",
       "      <th>0.30</th>\n",
       "      <td>0.131345</td>\n",
       "      <td>0.407379</td>\n",
       "      <td>0.197954</td>\n",
       "      <td>0.296337</td>\n",
       "      <td>0.703663</td>\n",
       "      <td>0.802046</td>\n",
       "      <td>0.868655</td>\n",
       "      <td>0.592621</td>\n",
       "      <td>0.526874</td>\n",
       "      <td>0.650413</td>\n",
       "      <td>0.247146</td>\n",
       "      <td>0.269362</td>\n",
       "    </tr>\n",
       "    <tr>\n",
       "      <th>0.31</th>\n",
       "      <td>0.133457</td>\n",
       "      <td>0.405156</td>\n",
       "      <td>0.202928</td>\n",
       "      <td>0.291797</td>\n",
       "      <td>0.708203</td>\n",
       "      <td>0.797072</td>\n",
       "      <td>0.866543</td>\n",
       "      <td>0.594844</td>\n",
       "      <td>0.531566</td>\n",
       "      <td>0.650413</td>\n",
       "      <td>0.247363</td>\n",
       "      <td>0.269306</td>\n",
       "    </tr>\n",
       "    <tr>\n",
       "      <th>0.32</th>\n",
       "      <td>0.144864</td>\n",
       "      <td>0.384116</td>\n",
       "      <td>0.234278</td>\n",
       "      <td>0.256684</td>\n",
       "      <td>0.743316</td>\n",
       "      <td>0.765722</td>\n",
       "      <td>0.855136</td>\n",
       "      <td>0.615884</td>\n",
       "      <td>0.565363</td>\n",
       "      <td>0.650413</td>\n",
       "      <td>0.245481</td>\n",
       "      <td>0.264490</td>\n",
       "    </tr>\n",
       "    <tr>\n",
       "      <th>0.33</th>\n",
       "      <td>0.157375</td>\n",
       "      <td>0.351526</td>\n",
       "      <td>0.273982</td>\n",
       "      <td>0.211533</td>\n",
       "      <td>0.788467</td>\n",
       "      <td>0.726018</td>\n",
       "      <td>0.842625</td>\n",
       "      <td>0.648474</td>\n",
       "      <td>0.608610</td>\n",
       "      <td>0.650413</td>\n",
       "      <td>0.242757</td>\n",
       "      <td>0.254451</td>\n",
       "    </tr>\n",
       "    <tr>\n",
       "      <th>0.34</th>\n",
       "      <td>0.157424</td>\n",
       "      <td>0.351313</td>\n",
       "      <td>0.274169</td>\n",
       "      <td>0.211280</td>\n",
       "      <td>0.788720</td>\n",
       "      <td>0.725831</td>\n",
       "      <td>0.842576</td>\n",
       "      <td>0.648687</td>\n",
       "      <td>0.608840</td>\n",
       "      <td>0.650413</td>\n",
       "      <td>0.242725</td>\n",
       "      <td>0.254368</td>\n",
       "    </tr>\n",
       "    <tr>\n",
       "      <th>0.35</th>\n",
       "      <td>0.157711</td>\n",
       "      <td>0.351058</td>\n",
       "      <td>0.274920</td>\n",
       "      <td>0.210826</td>\n",
       "      <td>0.789174</td>\n",
       "      <td>0.725080</td>\n",
       "      <td>0.842289</td>\n",
       "      <td>0.648942</td>\n",
       "      <td>0.609398</td>\n",
       "      <td>0.650413</td>\n",
       "      <td>0.242873</td>\n",
       "      <td>0.254384</td>\n",
       "    </tr>\n",
       "    <tr>\n",
       "      <th>0.36</th>\n",
       "      <td>0.157954</td>\n",
       "      <td>0.350530</td>\n",
       "      <td>0.275671</td>\n",
       "      <td>0.210120</td>\n",
       "      <td>0.789880</td>\n",
       "      <td>0.724329</td>\n",
       "      <td>0.842046</td>\n",
       "      <td>0.649470</td>\n",
       "      <td>0.610119</td>\n",
       "      <td>0.650413</td>\n",
       "      <td>0.242896</td>\n",
       "      <td>0.254242</td>\n",
       "    </tr>\n",
       "    <tr>\n",
       "      <th>0.37</th>\n",
       "      <td>0.159201</td>\n",
       "      <td>0.344928</td>\n",
       "      <td>0.280552</td>\n",
       "      <td>0.203612</td>\n",
       "      <td>0.796388</td>\n",
       "      <td>0.719448</td>\n",
       "      <td>0.840799</td>\n",
       "      <td>0.655072</td>\n",
       "      <td>0.616059</td>\n",
       "      <td>0.650413</td>\n",
       "      <td>0.242082</td>\n",
       "      <td>0.252064</td>\n",
       "    </tr>\n",
       "    <tr>\n",
       "      <th>0.38</th>\n",
       "      <td>0.159351</td>\n",
       "      <td>0.344320</td>\n",
       "      <td>0.281115</td>\n",
       "      <td>0.202906</td>\n",
       "      <td>0.797094</td>\n",
       "      <td>0.718885</td>\n",
       "      <td>0.840649</td>\n",
       "      <td>0.655680</td>\n",
       "      <td>0.616715</td>\n",
       "      <td>0.650413</td>\n",
       "      <td>0.242010</td>\n",
       "      <td>0.251835</td>\n",
       "    </tr>\n",
       "    <tr>\n",
       "      <th>0.39</th>\n",
       "      <td>0.159667</td>\n",
       "      <td>0.343211</td>\n",
       "      <td>0.282241</td>\n",
       "      <td>0.201594</td>\n",
       "      <td>0.798406</td>\n",
       "      <td>0.717759</td>\n",
       "      <td>0.840333</td>\n",
       "      <td>0.656789</td>\n",
       "      <td>0.617962</td>\n",
       "      <td>0.650413</td>\n",
       "      <td>0.241918</td>\n",
       "      <td>0.251439</td>\n",
       "    </tr>\n",
       "    <tr>\n",
       "      <th>0.40</th>\n",
       "      <td>0.160487</td>\n",
       "      <td>0.341457</td>\n",
       "      <td>0.284776</td>\n",
       "      <td>0.199324</td>\n",
       "      <td>0.800676</td>\n",
       "      <td>0.715224</td>\n",
       "      <td>0.839513</td>\n",
       "      <td>0.658543</td>\n",
       "      <td>0.620324</td>\n",
       "      <td>0.650413</td>\n",
       "      <td>0.242050</td>\n",
       "      <td>0.250972</td>\n",
       "    </tr>\n",
       "    <tr>\n",
       "      <th>0.41</th>\n",
       "      <td>0.162409</td>\n",
       "      <td>0.339389</td>\n",
       "      <td>0.290032</td>\n",
       "      <td>0.196045</td>\n",
       "      <td>0.803955</td>\n",
       "      <td>0.709968</td>\n",
       "      <td>0.837591</td>\n",
       "      <td>0.660611</td>\n",
       "      <td>0.624295</td>\n",
       "      <td>0.650413</td>\n",
       "      <td>0.243038</td>\n",
       "      <td>0.250899</td>\n",
       "    </tr>\n",
       "    <tr>\n",
       "      <th>0.42</th>\n",
       "      <td>0.164257</td>\n",
       "      <td>0.336662</td>\n",
       "      <td>0.295382</td>\n",
       "      <td>0.192211</td>\n",
       "      <td>0.807789</td>\n",
       "      <td>0.704618</td>\n",
       "      <td>0.835743</td>\n",
       "      <td>0.663338</td>\n",
       "      <td>0.628659</td>\n",
       "      <td>0.650413</td>\n",
       "      <td>0.243796</td>\n",
       "      <td>0.250459</td>\n",
       "    </tr>\n",
       "    <tr>\n",
       "      <th>0.43</th>\n",
       "      <td>0.172589</td>\n",
       "      <td>0.328181</td>\n",
       "      <td>0.318660</td>\n",
       "      <td>0.178892</td>\n",
       "      <td>0.821108</td>\n",
       "      <td>0.681340</td>\n",
       "      <td>0.827411</td>\n",
       "      <td>0.671819</td>\n",
       "      <td>0.645459</td>\n",
       "      <td>0.650413</td>\n",
       "      <td>0.248776</td>\n",
       "      <td>0.250385</td>\n",
       "    </tr>\n",
       "    <tr>\n",
       "      <th>0.44</th>\n",
       "      <td>0.172736</td>\n",
       "      <td>0.327617</td>\n",
       "      <td>0.319223</td>\n",
       "      <td>0.178287</td>\n",
       "      <td>0.821713</td>\n",
       "      <td>0.680777</td>\n",
       "      <td>0.827264</td>\n",
       "      <td>0.672383</td>\n",
       "      <td>0.646049</td>\n",
       "      <td>0.650413</td>\n",
       "      <td>0.248755</td>\n",
       "      <td>0.250176</td>\n",
       "    </tr>\n",
       "    <tr>\n",
       "      <th>0.45</th>\n",
       "      <td>0.174102</td>\n",
       "      <td>0.326359</td>\n",
       "      <td>0.323071</td>\n",
       "      <td>0.176269</td>\n",
       "      <td>0.823731</td>\n",
       "      <td>0.676929</td>\n",
       "      <td>0.825898</td>\n",
       "      <td>0.673641</td>\n",
       "      <td>0.648707</td>\n",
       "      <td>0.650413</td>\n",
       "      <td>0.249670</td>\n",
       "      <td>0.250231</td>\n",
       "    </tr>\n",
       "    <tr>\n",
       "      <th>0.46</th>\n",
       "      <td>0.176228</td>\n",
       "      <td>0.323936</td>\n",
       "      <td>0.329266</td>\n",
       "      <td>0.172737</td>\n",
       "      <td>0.827263</td>\n",
       "      <td>0.670734</td>\n",
       "      <td>0.823772</td>\n",
       "      <td>0.676064</td>\n",
       "      <td>0.653170</td>\n",
       "      <td>0.650413</td>\n",
       "      <td>0.251002</td>\n",
       "      <td>0.250082</td>\n",
       "    </tr>\n",
       "    <tr>\n",
       "      <th>0.47</th>\n",
       "      <td>0.179992</td>\n",
       "      <td>0.318887</td>\n",
       "      <td>0.340623</td>\n",
       "      <td>0.165927</td>\n",
       "      <td>0.834073</td>\n",
       "      <td>0.659377</td>\n",
       "      <td>0.820008</td>\n",
       "      <td>0.681113</td>\n",
       "      <td>0.661570</td>\n",
       "      <td>0.650413</td>\n",
       "      <td>0.253275</td>\n",
       "      <td>0.249440</td>\n",
       "    </tr>\n",
       "    <tr>\n",
       "      <th>0.48</th>\n",
       "      <td>0.183430</td>\n",
       "      <td>0.312910</td>\n",
       "      <td>0.351605</td>\n",
       "      <td>0.158713</td>\n",
       "      <td>0.841287</td>\n",
       "      <td>0.648395</td>\n",
       "      <td>0.816570</td>\n",
       "      <td>0.687090</td>\n",
       "      <td>0.670101</td>\n",
       "      <td>0.650413</td>\n",
       "      <td>0.255159</td>\n",
       "      <td>0.248170</td>\n",
       "    </tr>\n",
       "    <tr>\n",
       "      <th>0.49</th>\n",
       "      <td>0.183624</td>\n",
       "      <td>0.312201</td>\n",
       "      <td>0.352356</td>\n",
       "      <td>0.158006</td>\n",
       "      <td>0.841994</td>\n",
       "      <td>0.647644</td>\n",
       "      <td>0.816376</td>\n",
       "      <td>0.687799</td>\n",
       "      <td>0.670823</td>\n",
       "      <td>0.650413</td>\n",
       "      <td>0.255181</td>\n",
       "      <td>0.247912</td>\n",
       "    </tr>\n",
       "    <tr>\n",
       "      <th>0.50</th>\n",
       "      <td>0.183838</td>\n",
       "      <td>0.310824</td>\n",
       "      <td>0.353388</td>\n",
       "      <td>0.156745</td>\n",
       "      <td>0.843255</td>\n",
       "      <td>0.646612</td>\n",
       "      <td>0.816162</td>\n",
       "      <td>0.689176</td>\n",
       "      <td>0.672004</td>\n",
       "      <td>0.650413</td>\n",
       "      <td>0.255067</td>\n",
       "      <td>0.247331</td>\n",
       "    </tr>\n",
       "    <tr>\n",
       "      <th>0.51</th>\n",
       "      <td>0.188983</td>\n",
       "      <td>0.304019</td>\n",
       "      <td>0.369345</td>\n",
       "      <td>0.148068</td>\n",
       "      <td>0.851932</td>\n",
       "      <td>0.630655</td>\n",
       "      <td>0.811017</td>\n",
       "      <td>0.695981</td>\n",
       "      <td>0.683226</td>\n",
       "      <td>0.650413</td>\n",
       "      <td>0.258706</td>\n",
       "      <td>0.246501</td>\n",
       "    </tr>\n",
       "    <tr>\n",
       "      <th>0.52</th>\n",
       "      <td>0.189685</td>\n",
       "      <td>0.302376</td>\n",
       "      <td>0.371785</td>\n",
       "      <td>0.146353</td>\n",
       "      <td>0.853647</td>\n",
       "      <td>0.628215</td>\n",
       "      <td>0.810315</td>\n",
       "      <td>0.697624</td>\n",
       "      <td>0.685195</td>\n",
       "      <td>0.650413</td>\n",
       "      <td>0.259069</td>\n",
       "      <td>0.246031</td>\n",
       "    </tr>\n",
       "    <tr>\n",
       "      <th>0.53</th>\n",
       "      <td>0.189890</td>\n",
       "      <td>0.302347</td>\n",
       "      <td>0.372348</td>\n",
       "      <td>0.146201</td>\n",
       "      <td>0.853799</td>\n",
       "      <td>0.627652</td>\n",
       "      <td>0.810110</td>\n",
       "      <td>0.697653</td>\n",
       "      <td>0.685490</td>\n",
       "      <td>0.650413</td>\n",
       "      <td>0.259275</td>\n",
       "      <td>0.246119</td>\n",
       "    </tr>\n",
       "    <tr>\n",
       "      <th>0.54</th>\n",
       "      <td>0.190107</td>\n",
       "      <td>0.302131</td>\n",
       "      <td>0.373005</td>\n",
       "      <td>0.145898</td>\n",
       "      <td>0.854102</td>\n",
       "      <td>0.626995</td>\n",
       "      <td>0.809893</td>\n",
       "      <td>0.697869</td>\n",
       "      <td>0.685917</td>\n",
       "      <td>0.650413</td>\n",
       "      <td>0.259452</td>\n",
       "      <td>0.246119</td>\n",
       "    </tr>\n",
       "    <tr>\n",
       "      <th>0.55</th>\n",
       "      <td>0.190992</td>\n",
       "      <td>0.302265</td>\n",
       "      <td>0.375352</td>\n",
       "      <td>0.145444</td>\n",
       "      <td>0.854556</td>\n",
       "      <td>0.624648</td>\n",
       "      <td>0.809008</td>\n",
       "      <td>0.697735</td>\n",
       "      <td>0.687032</td>\n",
       "      <td>0.650413</td>\n",
       "      <td>0.260398</td>\n",
       "      <td>0.246629</td>\n",
       "    </tr>\n",
       "    <tr>\n",
       "      <th>0.56</th>\n",
       "      <td>0.193168</td>\n",
       "      <td>0.301156</td>\n",
       "      <td>0.381641</td>\n",
       "      <td>0.143225</td>\n",
       "      <td>0.856775</td>\n",
       "      <td>0.618359</td>\n",
       "      <td>0.806832</td>\n",
       "      <td>0.698844</td>\n",
       "      <td>0.690675</td>\n",
       "      <td>0.650413</td>\n",
       "      <td>0.262433</td>\n",
       "      <td>0.247162</td>\n",
       "    </tr>\n",
       "    <tr>\n",
       "      <th>0.57</th>\n",
       "      <td>0.193750</td>\n",
       "      <td>0.300309</td>\n",
       "      <td>0.383518</td>\n",
       "      <td>0.142216</td>\n",
       "      <td>0.857784</td>\n",
       "      <td>0.616482</td>\n",
       "      <td>0.806250</td>\n",
       "      <td>0.699691</td>\n",
       "      <td>0.691987</td>\n",
       "      <td>0.650413</td>\n",
       "      <td>0.262867</td>\n",
       "      <td>0.247030</td>\n",
       "    </tr>\n",
       "    <tr>\n",
       "      <th>0.58</th>\n",
       "      <td>0.193818</td>\n",
       "      <td>0.300298</td>\n",
       "      <td>0.383706</td>\n",
       "      <td>0.142165</td>\n",
       "      <td>0.857835</td>\n",
       "      <td>0.616294</td>\n",
       "      <td>0.806182</td>\n",
       "      <td>0.699702</td>\n",
       "      <td>0.692086</td>\n",
       "      <td>0.650413</td>\n",
       "      <td>0.262935</td>\n",
       "      <td>0.247058</td>\n",
       "    </tr>\n",
       "    <tr>\n",
       "      <th>0.59</th>\n",
       "      <td>0.194498</td>\n",
       "      <td>0.300267</td>\n",
       "      <td>0.385583</td>\n",
       "      <td>0.141711</td>\n",
       "      <td>0.858289</td>\n",
       "      <td>0.614417</td>\n",
       "      <td>0.805502</td>\n",
       "      <td>0.699733</td>\n",
       "      <td>0.693037</td>\n",
       "      <td>0.650413</td>\n",
       "      <td>0.263647</td>\n",
       "      <td>0.247383</td>\n",
       "    </tr>\n",
       "    <tr>\n",
       "      <th>0.60</th>\n",
       "      <td>0.195838</td>\n",
       "      <td>0.299515</td>\n",
       "      <td>0.389525</td>\n",
       "      <td>0.140299</td>\n",
       "      <td>0.859701</td>\n",
       "      <td>0.610475</td>\n",
       "      <td>0.804162</td>\n",
       "      <td>0.700485</td>\n",
       "      <td>0.695334</td>\n",
       "      <td>0.650413</td>\n",
       "      <td>0.264912</td>\n",
       "      <td>0.247677</td>\n",
       "    </tr>\n",
       "    <tr>\n",
       "      <th>0.61</th>\n",
       "      <td>0.198322</td>\n",
       "      <td>0.297419</td>\n",
       "      <td>0.397128</td>\n",
       "      <td>0.137171</td>\n",
       "      <td>0.862829</td>\n",
       "      <td>0.602872</td>\n",
       "      <td>0.801678</td>\n",
       "      <td>0.702581</td>\n",
       "      <td>0.700026</td>\n",
       "      <td>0.650413</td>\n",
       "      <td>0.267149</td>\n",
       "      <td>0.247870</td>\n",
       "    </tr>\n",
       "    <tr>\n",
       "      <th>0.62</th>\n",
       "      <td>0.198369</td>\n",
       "      <td>0.297253</td>\n",
       "      <td>0.397316</td>\n",
       "      <td>0.137019</td>\n",
       "      <td>0.862981</td>\n",
       "      <td>0.602684</td>\n",
       "      <td>0.801631</td>\n",
       "      <td>0.702747</td>\n",
       "      <td>0.700190</td>\n",
       "      <td>0.650413</td>\n",
       "      <td>0.267168</td>\n",
       "      <td>0.247811</td>\n",
       "    </tr>\n",
       "    <tr>\n",
       "      <th>0.63</th>\n",
       "      <td>0.232796</td>\n",
       "      <td>0.278556</td>\n",
       "      <td>0.506758</td>\n",
       "      <td>0.102361</td>\n",
       "      <td>0.897639</td>\n",
       "      <td>0.493242</td>\n",
       "      <td>0.767204</td>\n",
       "      <td>0.721444</td>\n",
       "      <td>0.760992</td>\n",
       "      <td>0.650413</td>\n",
       "      <td>0.304560</td>\n",
       "      <td>0.255676</td>\n",
       "    </tr>\n",
       "    <tr>\n",
       "      <th>0.64</th>\n",
       "      <td>0.241081</td>\n",
       "      <td>0.271978</td>\n",
       "      <td>0.535949</td>\n",
       "      <td>0.093179</td>\n",
       "      <td>0.906821</td>\n",
       "      <td>0.464051</td>\n",
       "      <td>0.758919</td>\n",
       "      <td>0.728022</td>\n",
       "      <td>0.777169</td>\n",
       "      <td>0.650413</td>\n",
       "      <td>0.314564</td>\n",
       "      <td>0.256529</td>\n",
       "    </tr>\n",
       "    <tr>\n",
       "      <th>0.65</th>\n",
       "      <td>0.241205</td>\n",
       "      <td>0.270901</td>\n",
       "      <td>0.536700</td>\n",
       "      <td>0.092523</td>\n",
       "      <td>0.907477</td>\n",
       "      <td>0.463300</td>\n",
       "      <td>0.758795</td>\n",
       "      <td>0.729099</td>\n",
       "      <td>0.777858</td>\n",
       "      <td>0.650413</td>\n",
       "      <td>0.314612</td>\n",
       "      <td>0.256053</td>\n",
       "    </tr>\n",
       "    <tr>\n",
       "      <th>0.66</th>\n",
       "      <td>0.243557</td>\n",
       "      <td>0.270526</td>\n",
       "      <td>0.544678</td>\n",
       "      <td>0.090758</td>\n",
       "      <td>0.909242</td>\n",
       "      <td>0.455322</td>\n",
       "      <td>0.756443</td>\n",
       "      <td>0.729474</td>\n",
       "      <td>0.781796</td>\n",
       "      <td>0.650413</td>\n",
       "      <td>0.317718</td>\n",
       "      <td>0.257042</td>\n",
       "    </tr>\n",
       "    <tr>\n",
       "      <th>0.67</th>\n",
       "      <td>0.290400</td>\n",
       "      <td>0.179547</td>\n",
       "      <td>0.737939</td>\n",
       "      <td>0.030824</td>\n",
       "      <td>0.969176</td>\n",
       "      <td>0.262061</td>\n",
       "      <td>0.709600</td>\n",
       "      <td>0.820453</td>\n",
       "      <td>0.888338</td>\n",
       "      <td>0.650413</td>\n",
       "      <td>0.384382</td>\n",
       "      <td>0.234974</td>\n",
       "    </tr>\n",
       "    <tr>\n",
       "      <th>0.68</th>\n",
       "      <td>0.290555</td>\n",
       "      <td>0.177653</td>\n",
       "      <td>0.738877</td>\n",
       "      <td>0.030320</td>\n",
       "      <td>0.969680</td>\n",
       "      <td>0.261123</td>\n",
       "      <td>0.709445</td>\n",
       "      <td>0.822347</td>\n",
       "      <td>0.888995</td>\n",
       "      <td>0.650413</td>\n",
       "      <td>0.384599</td>\n",
       "      <td>0.234104</td>\n",
       "    </tr>\n",
       "    <tr>\n",
       "      <th>0.69</th>\n",
       "      <td>0.296892</td>\n",
       "      <td>0.155760</td>\n",
       "      <td>0.767505</td>\n",
       "      <td>0.023055</td>\n",
       "      <td>0.976945</td>\n",
       "      <td>0.232495</td>\n",
       "      <td>0.703108</td>\n",
       "      <td>0.844240</td>\n",
       "      <td>0.903728</td>\n",
       "      <td>0.650413</td>\n",
       "      <td>0.395280</td>\n",
       "      <td>0.226326</td>\n",
       "    </tr>\n",
       "  </tbody>\n",
       "</table>\n",
       "</div>"
      ],
      "text/plain": [
       "           % de B en la lista 0  % de NB en la lista 1  FN (% de 0 en los B)  \\\n",
       "threshold                                                                      \n",
       "0.20                   0.119046               0.436301              0.163976   \n",
       "0.21                   0.121443               0.434168              0.169044   \n",
       "0.22                   0.122025               0.431121              0.171297   \n",
       "0.23                   0.123205               0.429839              0.173925   \n",
       "0.24                   0.124225               0.427172              0.176835   \n",
       "0.25                   0.124407               0.427059              0.177210   \n",
       "0.26                   0.127460               0.417568              0.186597   \n",
       "0.27                   0.128437               0.412890              0.190257   \n",
       "0.28                   0.128789               0.412675              0.191008   \n",
       "0.29                   0.129240               0.412223              0.192041   \n",
       "0.30                   0.131345               0.407379              0.197954   \n",
       "0.31                   0.133457               0.405156              0.202928   \n",
       "0.32                   0.144864               0.384116              0.234278   \n",
       "0.33                   0.157375               0.351526              0.273982   \n",
       "0.34                   0.157424               0.351313              0.274169   \n",
       "0.35                   0.157711               0.351058              0.274920   \n",
       "0.36                   0.157954               0.350530              0.275671   \n",
       "0.37                   0.159201               0.344928              0.280552   \n",
       "0.38                   0.159351               0.344320              0.281115   \n",
       "0.39                   0.159667               0.343211              0.282241   \n",
       "0.40                   0.160487               0.341457              0.284776   \n",
       "0.41                   0.162409               0.339389              0.290032   \n",
       "0.42                   0.164257               0.336662              0.295382   \n",
       "0.43                   0.172589               0.328181              0.318660   \n",
       "0.44                   0.172736               0.327617              0.319223   \n",
       "0.45                   0.174102               0.326359              0.323071   \n",
       "0.46                   0.176228               0.323936              0.329266   \n",
       "0.47                   0.179992               0.318887              0.340623   \n",
       "0.48                   0.183430               0.312910              0.351605   \n",
       "0.49                   0.183624               0.312201              0.352356   \n",
       "0.50                   0.183838               0.310824              0.353388   \n",
       "0.51                   0.188983               0.304019              0.369345   \n",
       "0.52                   0.189685               0.302376              0.371785   \n",
       "0.53                   0.189890               0.302347              0.372348   \n",
       "0.54                   0.190107               0.302131              0.373005   \n",
       "0.55                   0.190992               0.302265              0.375352   \n",
       "0.56                   0.193168               0.301156              0.381641   \n",
       "0.57                   0.193750               0.300309              0.383518   \n",
       "0.58                   0.193818               0.300298              0.383706   \n",
       "0.59                   0.194498               0.300267              0.385583   \n",
       "0.60                   0.195838               0.299515              0.389525   \n",
       "0.61                   0.198322               0.297419              0.397128   \n",
       "0.62                   0.198369               0.297253              0.397316   \n",
       "0.63                   0.232796               0.278556              0.506758   \n",
       "0.64                   0.241081               0.271978              0.535949   \n",
       "0.65                   0.241205               0.270901              0.536700   \n",
       "0.66                   0.243557               0.270526              0.544678   \n",
       "0.67                   0.290400               0.179547              0.737939   \n",
       "0.68                   0.290555               0.177653              0.738877   \n",
       "0.69                   0.296892               0.155760              0.767505   \n",
       "\n",
       "           FP (% de 1 en los NB)  VN (% de 0 en los NB)  VP (% de 1 en los B)  \\\n",
       "threshold                                                                       \n",
       "0.20                    0.347795               0.652205              0.836024   \n",
       "0.21                    0.342700               0.657300              0.830956   \n",
       "0.22                    0.337554               0.662446              0.828703   \n",
       "0.23                    0.334729               0.665271              0.826075   \n",
       "0.24                    0.329936               0.670064              0.823165   \n",
       "0.25                    0.329634               0.670366              0.822790   \n",
       "0.26                    0.313440               0.686560              0.813403   \n",
       "0.27                    0.306074               0.693926              0.809743   \n",
       "0.28                    0.305519               0.694481              0.808992   \n",
       "0.29                    0.304561               0.695439              0.807959   \n",
       "0.30                    0.296337               0.703663              0.802046   \n",
       "0.31                    0.291797               0.708203              0.797072   \n",
       "0.32                    0.256684               0.743316              0.765722   \n",
       "0.33                    0.211533               0.788467              0.726018   \n",
       "0.34                    0.211280               0.788720              0.725831   \n",
       "0.35                    0.210826               0.789174              0.725080   \n",
       "0.36                    0.210120               0.789880              0.724329   \n",
       "0.37                    0.203612               0.796388              0.719448   \n",
       "0.38                    0.202906               0.797094              0.718885   \n",
       "0.39                    0.201594               0.798406              0.717759   \n",
       "0.40                    0.199324               0.800676              0.715224   \n",
       "0.41                    0.196045               0.803955              0.709968   \n",
       "0.42                    0.192211               0.807789              0.704618   \n",
       "0.43                    0.178892               0.821108              0.681340   \n",
       "0.44                    0.178287               0.821713              0.680777   \n",
       "0.45                    0.176269               0.823731              0.676929   \n",
       "0.46                    0.172737               0.827263              0.670734   \n",
       "0.47                    0.165927               0.834073              0.659377   \n",
       "0.48                    0.158713               0.841287              0.648395   \n",
       "0.49                    0.158006               0.841994              0.647644   \n",
       "0.50                    0.156745               0.843255              0.646612   \n",
       "0.51                    0.148068               0.851932              0.630655   \n",
       "0.52                    0.146353               0.853647              0.628215   \n",
       "0.53                    0.146201               0.853799              0.627652   \n",
       "0.54                    0.145898               0.854102              0.626995   \n",
       "0.55                    0.145444               0.854556              0.624648   \n",
       "0.56                    0.143225               0.856775              0.618359   \n",
       "0.57                    0.142216               0.857784              0.616482   \n",
       "0.58                    0.142165               0.857835              0.616294   \n",
       "0.59                    0.141711               0.858289              0.614417   \n",
       "0.60                    0.140299               0.859701              0.610475   \n",
       "0.61                    0.137171               0.862829              0.602872   \n",
       "0.62                    0.137019               0.862981              0.602684   \n",
       "0.63                    0.102361               0.897639              0.493242   \n",
       "0.64                    0.093179               0.906821              0.464051   \n",
       "0.65                    0.092523               0.907477              0.463300   \n",
       "0.66                    0.090758               0.909242              0.455322   \n",
       "0.67                    0.030824               0.969176              0.262061   \n",
       "0.68                    0.030320               0.969680              0.261123   \n",
       "0.69                    0.023055               0.976945              0.232495   \n",
       "\n",
       "           VPN (% de NB en la lista 0)  VPP (% de B en la lista 1)  \\\n",
       "threshold                                                            \n",
       "0.20                          0.880954                    0.563699   \n",
       "0.21                          0.878557                    0.565832   \n",
       "0.22                          0.877975                    0.568879   \n",
       "0.23                          0.876795                    0.570161   \n",
       "0.24                          0.875775                    0.572828   \n",
       "0.25                          0.875593                    0.572941   \n",
       "0.26                          0.872540                    0.582432   \n",
       "0.27                          0.871563                    0.587110   \n",
       "0.28                          0.871211                    0.587325   \n",
       "0.29                          0.870760                    0.587777   \n",
       "0.30                          0.868655                    0.592621   \n",
       "0.31                          0.866543                    0.594844   \n",
       "0.32                          0.855136                    0.615884   \n",
       "0.33                          0.842625                    0.648474   \n",
       "0.34                          0.842576                    0.648687   \n",
       "0.35                          0.842289                    0.648942   \n",
       "0.36                          0.842046                    0.649470   \n",
       "0.37                          0.840799                    0.655072   \n",
       "0.38                          0.840649                    0.655680   \n",
       "0.39                          0.840333                    0.656789   \n",
       "0.40                          0.839513                    0.658543   \n",
       "0.41                          0.837591                    0.660611   \n",
       "0.42                          0.835743                    0.663338   \n",
       "0.43                          0.827411                    0.671819   \n",
       "0.44                          0.827264                    0.672383   \n",
       "0.45                          0.825898                    0.673641   \n",
       "0.46                          0.823772                    0.676064   \n",
       "0.47                          0.820008                    0.681113   \n",
       "0.48                          0.816570                    0.687090   \n",
       "0.49                          0.816376                    0.687799   \n",
       "0.50                          0.816162                    0.689176   \n",
       "0.51                          0.811017                    0.695981   \n",
       "0.52                          0.810315                    0.697624   \n",
       "0.53                          0.810110                    0.697653   \n",
       "0.54                          0.809893                    0.697869   \n",
       "0.55                          0.809008                    0.697735   \n",
       "0.56                          0.806832                    0.698844   \n",
       "0.57                          0.806250                    0.699691   \n",
       "0.58                          0.806182                    0.699702   \n",
       "0.59                          0.805502                    0.699733   \n",
       "0.60                          0.804162                    0.700485   \n",
       "0.61                          0.801678                    0.702581   \n",
       "0.62                          0.801631                    0.702747   \n",
       "0.63                          0.767204                    0.721444   \n",
       "0.64                          0.758919                    0.728022   \n",
       "0.65                          0.758795                    0.729099   \n",
       "0.66                          0.756443                    0.729474   \n",
       "0.67                          0.709600                    0.820453   \n",
       "0.68                          0.709445                    0.822347   \n",
       "0.69                          0.703108                    0.844240   \n",
       "\n",
       "           porcentaje de 0 predicto  porcentaje de NB  \\\n",
       "threshold                                               \n",
       "0.20                       0.481526          0.650413   \n",
       "0.21                       0.486612          0.650413   \n",
       "0.22                       0.490747          0.650413   \n",
       "0.23                       0.493503          0.650413   \n",
       "0.24                       0.497637          0.650413   \n",
       "0.25                       0.497966          0.650413   \n",
       "0.26                       0.511780          0.650413   \n",
       "0.27                       0.517850          0.650413   \n",
       "0.28                       0.518474          0.650413   \n",
       "0.29                       0.519458          0.650413   \n",
       "0.30                       0.526874          0.650413   \n",
       "0.31                       0.531566          0.650413   \n",
       "0.32                       0.565363          0.650413   \n",
       "0.33                       0.608610          0.650413   \n",
       "0.34                       0.608840          0.650413   \n",
       "0.35                       0.609398          0.650413   \n",
       "0.36                       0.610119          0.650413   \n",
       "0.37                       0.616059          0.650413   \n",
       "0.38                       0.616715          0.650413   \n",
       "0.39                       0.617962          0.650413   \n",
       "0.40                       0.620324          0.650413   \n",
       "0.41                       0.624295          0.650413   \n",
       "0.42                       0.628659          0.650413   \n",
       "0.43                       0.645459          0.650413   \n",
       "0.44                       0.646049          0.650413   \n",
       "0.45                       0.648707          0.650413   \n",
       "0.46                       0.653170          0.650413   \n",
       "0.47                       0.661570          0.650413   \n",
       "0.48                       0.670101          0.650413   \n",
       "0.49                       0.670823          0.650413   \n",
       "0.50                       0.672004          0.650413   \n",
       "0.51                       0.683226          0.650413   \n",
       "0.52                       0.685195          0.650413   \n",
       "0.53                       0.685490          0.650413   \n",
       "0.54                       0.685917          0.650413   \n",
       "0.55                       0.687032          0.650413   \n",
       "0.56                       0.690675          0.650413   \n",
       "0.57                       0.691987          0.650413   \n",
       "0.58                       0.692086          0.650413   \n",
       "0.59                       0.693037          0.650413   \n",
       "0.60                       0.695334          0.650413   \n",
       "0.61                       0.700026          0.650413   \n",
       "0.62                       0.700190          0.650413   \n",
       "0.63                       0.760992          0.650413   \n",
       "0.64                       0.777169          0.650413   \n",
       "0.65                       0.777858          0.650413   \n",
       "0.66                       0.781796          0.650413   \n",
       "0.67                       0.888338          0.650413   \n",
       "0.68                       0.888995          0.650413   \n",
       "0.69                       0.903728          0.650413   \n",
       "\n",
       "           tassa de error de identificacion  tassa de error de prediccion  \n",
       "threshold                                                                  \n",
       "0.20                               0.255886                      0.277674  \n",
       "0.21                               0.255872                      0.277806  \n",
       "0.22                               0.254426                      0.276573  \n",
       "0.23                               0.254327                      0.276522  \n",
       "0.24                               0.253386                      0.275699  \n",
       "0.25                               0.253422                      0.275733  \n",
       "0.26                               0.250018                      0.272514  \n",
       "0.27                               0.248166                      0.270664  \n",
       "0.28                               0.248264                      0.270732  \n",
       "0.29                               0.248301                      0.270731  \n",
       "0.30                               0.247146                      0.269362  \n",
       "0.31                               0.247363                      0.269306  \n",
       "0.32                               0.245481                      0.264490  \n",
       "0.33                               0.242757                      0.254451  \n",
       "0.34                               0.242725                      0.254368  \n",
       "0.35                               0.242873                      0.254384  \n",
       "0.36                               0.242896                      0.254242  \n",
       "0.37                               0.242082                      0.252064  \n",
       "0.38                               0.242010                      0.251835  \n",
       "0.39                               0.241918                      0.251439  \n",
       "0.40                               0.242050                      0.250972  \n",
       "0.41                               0.243038                      0.250899  \n",
       "0.42                               0.243796                      0.250459  \n",
       "0.43                               0.248776                      0.250385  \n",
       "0.44                               0.248755                      0.250176  \n",
       "0.45                               0.249670                      0.250231  \n",
       "0.46                               0.251002                      0.250082  \n",
       "0.47                               0.253275                      0.249440  \n",
       "0.48                               0.255159                      0.248170  \n",
       "0.49                               0.255181                      0.247912  \n",
       "0.50                               0.255067                      0.247331  \n",
       "0.51                               0.258706                      0.246501  \n",
       "0.52                               0.259069                      0.246031  \n",
       "0.53                               0.259275                      0.246119  \n",
       "0.54                               0.259452                      0.246119  \n",
       "0.55                               0.260398                      0.246629  \n",
       "0.56                               0.262433                      0.247162  \n",
       "0.57                               0.262867                      0.247030  \n",
       "0.58                               0.262935                      0.247058  \n",
       "0.59                               0.263647                      0.247383  \n",
       "0.60                               0.264912                      0.247677  \n",
       "0.61                               0.267149                      0.247870  \n",
       "0.62                               0.267168                      0.247811  \n",
       "0.63                               0.304560                      0.255676  \n",
       "0.64                               0.314564                      0.256529  \n",
       "0.65                               0.314612                      0.256053  \n",
       "0.66                               0.317718                      0.257042  \n",
       "0.67                               0.384382                      0.234974  \n",
       "0.68                               0.384599                      0.234104  \n",
       "0.69                               0.395280                      0.226326  "
      ]
     },
     "execution_count": 39,
     "metadata": {},
     "output_type": "execute_result"
    }
   ],
   "source": [
    "cuadro_recapitulativo(y_test_1,y_pred_RF)"
   ]
  },
  {
   "cell_type": "code",
   "execution_count": 40,
   "metadata": {
    "collapsed": true
   },
   "outputs": [],
   "source": [
    "#menor tassa de error de identificacion por threshold=0.35"
   ]
  },
  {
   "cell_type": "markdown",
   "metadata": {
    "collapsed": true
   },
   "source": [
    "## Cross validation (a la mano / hacerlo de manera aleatoria)"
   ]
  },
  {
   "cell_type": "code",
   "execution_count": 41,
   "metadata": {
    "collapsed": true
   },
   "outputs": [],
   "source": [
    "#no funciona a causa de la vectorization ! \n",
    "#Lo hici antes de separar las bases. Pues, esta posible que el modelo no reconoce a algunos \n",
    "#dominios y por eso que no puede dar un score preciso a los correos.\n",
    "#No se a que corresponden los primeros numeros de dominio porque ya no les ha encontrado.\n",
    "#Tengo que hacer la vectorization dentro de la funcion."
   ]
  },
  {
   "cell_type": "code",
   "execution_count": 42,
   "metadata": {
    "collapsed": true
   },
   "outputs": [],
   "source": [
    "def vectorisation(df_columna):\n",
    "\n",
    "    l=[]\n",
    "    for i in df_columna:\n",
    "        if i not in l:\n",
    "            l.append(i)\n",
    "\n",
    "    dico={}\n",
    "    for i in range(len(l)):\n",
    "        dico[l[i]]=i\n",
    "    \n",
    "    num_dom=[]\n",
    "    for i in df_columna:\n",
    "        num_dom.append(dico[i])\n",
    "    \n",
    "    return(num_dom, dico)"
   ]
  },
  {
   "cell_type": "code",
   "execution_count": 43,
   "metadata": {
    "collapsed": true
   },
   "outputs": [],
   "source": [
    "#Cross validation gracias a esta funciona()\n",
    "def separation_base(base,longueur):\n",
    "    \n",
    "    indice=int(shape(base)[0]/longueur)\n",
    "    print(indice)\n",
    "    liste_base_train=[]\n",
    "    for i in range(longueur):\n",
    "        #print(i)\n",
    "        #print(i*indice)\n",
    "        #print((i+1)*indice)\n",
    "        liste_base_train.append(base[i*indice:(i+1)*indice])\n",
    "    \n",
    "    base_ind=base[0:longueur*indice]\n",
    "\n",
    "    liste_base_test=[]\n",
    "    for i in range(longueur):\n",
    "        liste_base_test.append(pandas.concat([base_ind[0:i*indice],base_ind[(i+1)*indice:len(base_ind)]],axis=0))\n",
    "        \n",
    "    return(liste_base_train,liste_base_test)\n",
    "        "
   ]
  },
  {
   "cell_type": "code",
   "execution_count": 44,
   "metadata": {
    "collapsed": true
   },
   "outputs": [],
   "source": [
    "def df_vectorisé(base,liste_variable):\n",
    "    \n",
    "    #var_name=[\"destination domain\",\"Client\",\"from domain\",\"has attachments\", \"has only words\", \"has special chars\"]\n",
    "    l_vect=[]\n",
    "    for i in liste_variable:\n",
    "        l_vect.append(pandas.DataFrame(vectorisation(base[i])[0],columns=[i]))\n",
    "    #df_vect=pandas.concat(l_vect, axis=1)\n",
    "    \n",
    "    return pandas.concat(l_vect, axis=1)\n",
    "\n"
   ]
  },
  {
   "cell_type": "code",
   "execution_count": 45,
   "metadata": {
    "collapsed": false
   },
   "outputs": [
    {
     "name": "stdout",
     "output_type": "stream",
     "text": [
      "12190\n"
     ]
    }
   ],
   "source": [
    "sep=separation_base(df_base,10)"
   ]
  },
  {
   "cell_type": "code",
   "execution_count": 46,
   "metadata": {
    "collapsed": false
   },
   "outputs": [
    {
     "name": "stdout",
     "output_type": "stream",
     "text": [
      "121900\n",
      "(109710,)\n",
      "(12190,)\n",
      "(0.1, 0.9661037840502896, 0.11650723571253373, 0.33766025641025643)\n",
      "0.716296503497\n",
      "121900\n",
      "(109710,)\n",
      "(12190,)\n",
      "(0.08, 0.9583646475274312, 0.1471916200108362, 0.3209864563261572)\n",
      "0.748623320573\n",
      "121900\n",
      "(109710,)\n",
      "(12190,)\n",
      "(0.24, 0.8416543846720708, 0.5419790104947526, 0.3826339395686954)\n",
      "0.635935820179\n",
      "121900\n",
      "(109710,)\n",
      "(12190,)\n",
      "(0.19, 0.9174451858913251, 0.24161267098632108, 0.35226530400362943)\n",
      "0.702893141341\n",
      "121900\n",
      "(109710,)\n",
      "(12190,)\n",
      "(0.34, 0.701010101010101, 0.7441048034934498, 0.35611244654893337)\n",
      "0.701984905729\n",
      "121900\n",
      "(109710,)\n",
      "(12190,)\n",
      "(0.3, 0.8285582963076452, 0.3711813526399435, 0.3717731179966568)\n",
      "0.662808707172\n",
      "121900\n",
      "(109710,)\n",
      "(12190,)\n",
      "(0.89, 0.8767422793112872, 0.5474031327287716, 0.3623374373950391)\n",
      "0.591303688626\n",
      "121900\n",
      "(109710,)\n",
      "(12190,)\n",
      "(0.83, 0.8660002530684551, 0.2920457196174481, 0.3678702258382245)\n",
      "0.665843618209\n",
      "121900\n",
      "(109710,)\n",
      "(12190,)\n"
     ]
    },
    {
     "name": "stderr",
     "output_type": "stream",
     "text": [
      "/Library/Frameworks/Python.framework/Versions/3.4/lib/python3.4/site-packages/sklearn/metrics/ranking.py:526: UndefinedMetricWarning: No negative samples in y_true, false positive value should be meaningless\n",
      "  UndefinedMetricWarning)\n"
     ]
    },
    {
     "name": "stdout",
     "output_type": "stream",
     "text": [
      "(0.0, 1, 1.0, 0.502994257588187)\n",
      "nan\n",
      "121900\n",
      "(109710,)\n",
      "(12190,)\n"
     ]
    },
    {
     "name": "stderr",
     "output_type": "stream",
     "text": [
      "/Library/Frameworks/Python.framework/Versions/3.4/lib/python3.4/site-packages/sklearn/metrics/ranking.py:526: UndefinedMetricWarning: No negative samples in y_true, false positive value should be meaningless\n",
      "  UndefinedMetricWarning)\n"
     ]
    },
    {
     "name": "stdout",
     "output_type": "stream",
     "text": [
      "(0.0, 1, 1.0, 0.5033223954060706)\n",
      "nan\n"
     ]
    }
   ],
   "source": [
    "#deberia funcionar \n",
    "se=[]\n",
    "au=[]\n",
    "var_name=[\"destination domain\",\"Client\",\"from domain\",\"has attachments\", \"has only words\", \"has special chars\"]\n",
    "\n",
    "\n",
    "for i in range(10):\n",
    "\n",
    "    X_train_brut=sep[1][i]\n",
    "    #print(shape(X_train))\n",
    "    X_test_brut=sep[0][i] \n",
    "    #print(shape(X_test))\n",
    "\n",
    "    \n",
    "    X_brut=pandas.concat([X_train_brut,X_test_brut],axis=0)\n",
    "    X=df_vectorisé(X_brut,var_name)\n",
    "    \n",
    "    X_train=X[0:shape(X_train_brut)[0]]\n",
    "    print(shape(X)[0])\n",
    "    X_test=X[shape(X_train_brut)[0]:shape(X)[0]]\n",
    "    \n",
    "    y_train=sep[1][i][\"bounce\"]\n",
    "    print(shape(y_train))\n",
    "    y_test = sep[0][i][\"bounce\"]\n",
    "    print(shape(y_test))\n",
    "    \n",
    "    RF_regressor = ensemble.RandomForestRegressor()\n",
    "    RF_regressor_fit=RF_regressor.fit(X_train,y_train)\n",
    "    y_pred_RF=RF_regressor.predict(X_test)\n",
    "    y_test_1=y_test.as_matrix()\n",
    "\n",
    "    fpr_RF_lm, tpr_RF_lm, _ = metrics.roc_curve(y_test_1, y_pred_RF)\n",
    "    \n",
    "    se.append(seuil(y_test_1,y_pred_RF))\n",
    "    au.append(auc(fpr_RF_lm, tpr_RF_lm))\n",
    "    print(seuil(y_test_1,y_pred_RF))\n",
    "    print(auc(fpr_RF_lm, tpr_RF_lm))\n",
    "\n",
    "#Podemos noticiar que la VPP media esta proxima de 50%. Por eso, esta difficil de explotar la PB.\n",
    "#Sin embargo, la VPN media debe ser proxima de 88%. Por eso, podemos tener confianza en la PNB.\n",
    "    "
   ]
  },
  {
   "cell_type": "code",
   "execution_count": 47,
   "metadata": {
    "collapsed": false
   },
   "outputs": [
    {
     "data": {
      "text/plain": [
       "10"
      ]
     },
     "execution_count": 47,
     "metadata": {},
     "output_type": "execute_result"
    }
   ],
   "source": [
    "len(se)"
   ]
  },
  {
   "cell_type": "code",
   "execution_count": 48,
   "metadata": {
    "collapsed": false
   },
   "outputs": [
    {
     "name": "stdout",
     "output_type": "stream",
     "text": [
      "0.33766025641025643\n",
      "0.6586467127364136\n",
      "1.041280652305109\n",
      "1.3935459563087385\n",
      "1.7496584028576718\n",
      "2.121431520854329\n",
      "2.483768958249368\n",
      "2.8516391840875923\n",
      "3.3546334416757793\n",
      "3.8579558370818496\n",
      "0.38579558370818495\n",
      "nan\n"
     ]
    }
   ],
   "source": [
    "te=0\n",
    "au1=0\n",
    "for i in range(len(se)):\n",
    "    te=te+se[i][3]\n",
    "    print(te)\n",
    "    au1=au1+au[i]\n",
    "print(te/len(se))\n",
    "print(au1/len(se))\n",
    "    \n",
    "    "
   ]
  },
  {
   "cell_type": "code",
   "execution_count": 49,
   "metadata": {
    "collapsed": true
   },
   "outputs": [],
   "source": [
    "#la cross validacion esta un poco extrana porque la columna bounce no tiene al menos una vez\n",
    "#un 1 o un 0 en cada muestras."
   ]
  },
  {
   "cell_type": "code",
   "execution_count": 50,
   "metadata": {
    "collapsed": false
   },
   "outputs": [
    {
     "name": "stdout",
     "output_type": "stream",
     "text": [
      "126.902635\n"
     ]
    }
   ],
   "source": [
    "t4=time.clock()\n",
    "print(t4-t3)"
   ]
  }
 ],
 "metadata": {
  "kernelspec": {
   "display_name": "Python 3",
   "language": "python",
   "name": "python3"
  },
  "language_info": {
   "codemirror_mode": {
    "name": "ipython",
    "version": 3
   },
   "file_extension": ".py",
   "mimetype": "text/x-python",
   "name": "python",
   "nbconvert_exporter": "python",
   "pygments_lexer": "ipython3",
   "version": "3.4.2"
  },
  "widgets": {
   "state": {},
   "version": "1.1.1"
  }
 },
 "nbformat": 4,
 "nbformat_minor": 0
}
